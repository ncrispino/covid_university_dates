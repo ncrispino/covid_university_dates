{
 "cells": [
  {
   "cell_type": "markdown",
   "metadata": {},
   "source": [
    "## Goal\n",
    "In this notebook, I will clean and preprocess the data, then feed it to some basic machine learning models, with a goal of predicting the number of days until a given university acts (relative to the first university's action in that category). So, if I put the features corresponding to WashU in my model, I may get 3 as an output, which would mean WashU is predicted to impose covid restrictions 3 days after the first mover.\n",
    "\n",
    "**Note (important):** There are many problems in my input data. First, there's not enough of it (only 51 samples) due to the difficulty of collecting the data. Also, there's likely not enough features--a large one I'm missing is the incidence rate of COVID in each zip code during the period where decisions were made. This may make the model more accurate. Second, there are a lot of interconnectivities between the data, meaning the iid assumption is violated. It's almost always realistic for this assumption to be violated, but in this model it is especially problematic, as universities likely base their decisions on the status of other, similar universities. So, this model is flawed. However, it is based on a novel problem I thought about and could possibly possess some small degree of predictive power. Whatever the outcome, it will have been good practice, especially with getting the data into a workable form.\n",
    "\n",
    "Notes for running:\n",
    "- Can change ```census_vars``` to include any variables from the Census Bureau's ACS 5-year data"
   ]
  },
  {
   "cell_type": "code",
   "execution_count": 577,
   "metadata": {},
   "outputs": [],
   "source": [
    "import pandas as pd\n",
    "import matplotlib.pyplot as plt\n",
    "import numpy as np"
   ]
  },
  {
   "cell_type": "markdown",
   "metadata": {},
   "source": [
    "## Preparing the Data"
   ]
  },
  {
   "cell_type": "code",
   "execution_count": 578,
   "metadata": {},
   "outputs": [],
   "source": [
    "covid_dates = pd.read_excel(\"cleaned_university_covid_dates.xlsx\")"
   ]
  },
  {
   "cell_type": "code",
   "execution_count": 579,
   "metadata": {},
   "outputs": [
    {
     "data": {
      "text/html": [
       "<div>\n",
       "<style scoped>\n",
       "    .dataframe tbody tr th:only-of-type {\n",
       "        vertical-align: middle;\n",
       "    }\n",
       "\n",
       "    .dataframe tbody tr th {\n",
       "        vertical-align: top;\n",
       "    }\n",
       "\n",
       "    .dataframe thead th {\n",
       "        text-align: right;\n",
       "    }\n",
       "</style>\n",
       "<table border=\"1\" class=\"dataframe\">\n",
       "  <thead>\n",
       "    <tr style=\"text-align: right;\">\n",
       "      <th></th>\n",
       "      <th>displayName</th>\n",
       "      <th>Unofficial Ranking</th>\n",
       "      <th>rankingDisplayRank</th>\n",
       "      <th>state</th>\n",
       "      <th>city</th>\n",
       "      <th>zip</th>\n",
       "      <th>Ivy</th>\n",
       "      <th>institution type</th>\n",
       "      <th>Date of Spring 2020 Move Online (first action to move classes online and tell students not to return to campus (some require it); many acted later to extend move to end of semester;)</th>\n",
       "      <th>Date of Vaccine Requirement for Students in FL2021</th>\n",
       "      <th>Date of Booster Requirement</th>\n",
       "      <th>Date of Spring 2022 Move Online/Delay</th>\n",
       "      <th>description</th>\n",
       "    </tr>\n",
       "  </thead>\n",
       "  <tbody>\n",
       "    <tr>\n",
       "      <th>0</th>\n",
       "      <td>Princeton University</td>\n",
       "      <td>1</td>\n",
       "      <td>#1</td>\n",
       "      <td>NJ</td>\n",
       "      <td>Princeton</td>\n",
       "      <td>8544</td>\n",
       "      <td>True</td>\n",
       "      <td>Private</td>\n",
       "      <td>2020-03-11</td>\n",
       "      <td>2021-04-20</td>\n",
       "      <td>2021-12-16</td>\n",
       "      <td>2021-12-27</td>\n",
       "      <td>The ivy-covered campus of Princeton University...</td>\n",
       "    </tr>\n",
       "    <tr>\n",
       "      <th>1</th>\n",
       "      <td>Columbia University</td>\n",
       "      <td>2</td>\n",
       "      <td>#2</td>\n",
       "      <td>NY</td>\n",
       "      <td>New York</td>\n",
       "      <td>10027</td>\n",
       "      <td>True</td>\n",
       "      <td>Private</td>\n",
       "      <td>2020-03-12</td>\n",
       "      <td>2021-04-19</td>\n",
       "      <td>2021-12-16</td>\n",
       "      <td>2021-12-22</td>\n",
       "      <td>Columbia University has three undergraduate sc...</td>\n",
       "    </tr>\n",
       "    <tr>\n",
       "      <th>2</th>\n",
       "      <td>Harvard University</td>\n",
       "      <td>3</td>\n",
       "      <td>#2</td>\n",
       "      <td>MA</td>\n",
       "      <td>Cambridge</td>\n",
       "      <td>2138</td>\n",
       "      <td>True</td>\n",
       "      <td>Private</td>\n",
       "      <td>2020-03-10</td>\n",
       "      <td>2021-05-05</td>\n",
       "      <td>2021-12-16</td>\n",
       "      <td>NaT</td>\n",
       "      <td>Harvard University is a private institution in...</td>\n",
       "    </tr>\n",
       "    <tr>\n",
       "      <th>3</th>\n",
       "      <td>Massachusetts Institute of Technology</td>\n",
       "      <td>4</td>\n",
       "      <td>#2</td>\n",
       "      <td>MA</td>\n",
       "      <td>Cambridge</td>\n",
       "      <td>2139</td>\n",
       "      <td>False</td>\n",
       "      <td>Private</td>\n",
       "      <td>2020-03-10</td>\n",
       "      <td>2021-04-30</td>\n",
       "      <td>2021-12-13</td>\n",
       "      <td>NaT</td>\n",
       "      <td>Though the Massachusetts Institute of Technolo...</td>\n",
       "    </tr>\n",
       "    <tr>\n",
       "      <th>4</th>\n",
       "      <td>Yale University</td>\n",
       "      <td>5</td>\n",
       "      <td>#5</td>\n",
       "      <td>CT</td>\n",
       "      <td>New Haven</td>\n",
       "      <td>6520</td>\n",
       "      <td>True</td>\n",
       "      <td>Private</td>\n",
       "      <td>2020-03-10</td>\n",
       "      <td>2021-04-19</td>\n",
       "      <td>2021-12-17</td>\n",
       "      <td>2021-12-22</td>\n",
       "      <td>Yale University, located in New Haven, Connect...</td>\n",
       "    </tr>\n",
       "  </tbody>\n",
       "</table>\n",
       "</div>"
      ],
      "text/plain": [
       "                             displayName  Unofficial Ranking  \\\n",
       "0                   Princeton University                   1   \n",
       "1                    Columbia University                   2   \n",
       "2                     Harvard University                   3   \n",
       "3  Massachusetts Institute of Technology                   4   \n",
       "4                        Yale University                   5   \n",
       "\n",
       "  rankingDisplayRank state       city    zip    Ivy institution type  \\\n",
       "0                 #1    NJ  Princeton   8544   True          Private   \n",
       "1                 #2    NY   New York  10027   True          Private   \n",
       "2                 #2    MA  Cambridge   2138   True          Private   \n",
       "3                 #2    MA  Cambridge   2139  False          Private   \n",
       "4                 #5    CT  New Haven   6520   True          Private   \n",
       "\n",
       "  Date of Spring 2020 Move Online (first action to move classes online and tell students not to return to campus (some require it); many acted later to extend move to end of semester;)  \\\n",
       "0                                         2020-03-11                                                                                                                                       \n",
       "1                                         2020-03-12                                                                                                                                       \n",
       "2                                         2020-03-10                                                                                                                                       \n",
       "3                                         2020-03-10                                                                                                                                       \n",
       "4                                         2020-03-10                                                                                                                                       \n",
       "\n",
       "  Date of Vaccine Requirement for Students in FL2021  \\\n",
       "0                                         2021-04-20   \n",
       "1                                         2021-04-19   \n",
       "2                                         2021-05-05   \n",
       "3                                         2021-04-30   \n",
       "4                                         2021-04-19   \n",
       "\n",
       "  Date of Booster Requirement Date of Spring 2022 Move Online/Delay  \\\n",
       "0                  2021-12-16                            2021-12-27   \n",
       "1                  2021-12-16                            2021-12-22   \n",
       "2                  2021-12-16                                   NaT   \n",
       "3                  2021-12-13                                   NaT   \n",
       "4                  2021-12-17                            2021-12-22   \n",
       "\n",
       "                                         description  \n",
       "0  The ivy-covered campus of Princeton University...  \n",
       "1  Columbia University has three undergraduate sc...  \n",
       "2  Harvard University is a private institution in...  \n",
       "3  Though the Massachusetts Institute of Technolo...  \n",
       "4  Yale University, located in New Haven, Connect...  "
      ]
     },
     "execution_count": 579,
     "metadata": {},
     "output_type": "execute_result"
    }
   ],
   "source": [
    "covid_dates.head()"
   ]
  },
  {
   "cell_type": "markdown",
   "metadata": {},
   "source": [
    "First, I'll change the titles of the columns; they are a bit too long. Also, I'm not using the descriptions from USNews so I can drop that, as well as the display rank and display name and city (we'll just use state and zip here)"
   ]
  },
  {
   "cell_type": "code",
   "execution_count": 580,
   "metadata": {},
   "outputs": [],
   "source": [
    "covid_dates = covid_dates.rename(columns=\n",
    "                       {\"Date of Spring 2020 Move Online (first action to move classes online and tell students not to return to campus (some require it); many acted later to extend move to end of semester;)\": \"Spring2020\",\n",
    "                        \"Date of Vaccine Requirement for Students in FL2021\": \"FirstVaccine\",\n",
    "                        \"Date of Booster Requirement\": \"Booster\",\n",
    "                        \"Date of Spring 2022 Move Online/Delay\": \"Spring2022\"}).drop(columns=[\"description\", \"displayName\", \"rankingDisplayRank\", \"city\"])"
   ]
  },
  {
   "cell_type": "code",
   "execution_count": 581,
   "metadata": {},
   "outputs": [
    {
     "data": {
      "text/html": [
       "<div>\n",
       "<style scoped>\n",
       "    .dataframe tbody tr th:only-of-type {\n",
       "        vertical-align: middle;\n",
       "    }\n",
       "\n",
       "    .dataframe tbody tr th {\n",
       "        vertical-align: top;\n",
       "    }\n",
       "\n",
       "    .dataframe thead th {\n",
       "        text-align: right;\n",
       "    }\n",
       "</style>\n",
       "<table border=\"1\" class=\"dataframe\">\n",
       "  <thead>\n",
       "    <tr style=\"text-align: right;\">\n",
       "      <th></th>\n",
       "      <th>Unofficial Ranking</th>\n",
       "      <th>state</th>\n",
       "      <th>zip</th>\n",
       "      <th>Ivy</th>\n",
       "      <th>institution type</th>\n",
       "      <th>Spring2020</th>\n",
       "      <th>FirstVaccine</th>\n",
       "      <th>Booster</th>\n",
       "      <th>Spring2022</th>\n",
       "    </tr>\n",
       "  </thead>\n",
       "  <tbody>\n",
       "    <tr>\n",
       "      <th>0</th>\n",
       "      <td>1</td>\n",
       "      <td>NJ</td>\n",
       "      <td>8544</td>\n",
       "      <td>True</td>\n",
       "      <td>Private</td>\n",
       "      <td>2020-03-11</td>\n",
       "      <td>2021-04-20</td>\n",
       "      <td>2021-12-16</td>\n",
       "      <td>2021-12-27</td>\n",
       "    </tr>\n",
       "    <tr>\n",
       "      <th>1</th>\n",
       "      <td>2</td>\n",
       "      <td>NY</td>\n",
       "      <td>10027</td>\n",
       "      <td>True</td>\n",
       "      <td>Private</td>\n",
       "      <td>2020-03-12</td>\n",
       "      <td>2021-04-19</td>\n",
       "      <td>2021-12-16</td>\n",
       "      <td>2021-12-22</td>\n",
       "    </tr>\n",
       "    <tr>\n",
       "      <th>2</th>\n",
       "      <td>3</td>\n",
       "      <td>MA</td>\n",
       "      <td>2138</td>\n",
       "      <td>True</td>\n",
       "      <td>Private</td>\n",
       "      <td>2020-03-10</td>\n",
       "      <td>2021-05-05</td>\n",
       "      <td>2021-12-16</td>\n",
       "      <td>NaT</td>\n",
       "    </tr>\n",
       "    <tr>\n",
       "      <th>3</th>\n",
       "      <td>4</td>\n",
       "      <td>MA</td>\n",
       "      <td>2139</td>\n",
       "      <td>False</td>\n",
       "      <td>Private</td>\n",
       "      <td>2020-03-10</td>\n",
       "      <td>2021-04-30</td>\n",
       "      <td>2021-12-13</td>\n",
       "      <td>NaT</td>\n",
       "    </tr>\n",
       "    <tr>\n",
       "      <th>4</th>\n",
       "      <td>5</td>\n",
       "      <td>CT</td>\n",
       "      <td>6520</td>\n",
       "      <td>True</td>\n",
       "      <td>Private</td>\n",
       "      <td>2020-03-10</td>\n",
       "      <td>2021-04-19</td>\n",
       "      <td>2021-12-17</td>\n",
       "      <td>2021-12-22</td>\n",
       "    </tr>\n",
       "  </tbody>\n",
       "</table>\n",
       "</div>"
      ],
      "text/plain": [
       "   Unofficial Ranking state    zip    Ivy institution type Spring2020  \\\n",
       "0                   1    NJ   8544   True          Private 2020-03-11   \n",
       "1                   2    NY  10027   True          Private 2020-03-12   \n",
       "2                   3    MA   2138   True          Private 2020-03-10   \n",
       "3                   4    MA   2139  False          Private 2020-03-10   \n",
       "4                   5    CT   6520   True          Private 2020-03-10   \n",
       "\n",
       "  FirstVaccine    Booster Spring2022  \n",
       "0   2021-04-20 2021-12-16 2021-12-27  \n",
       "1   2021-04-19 2021-12-16 2021-12-22  \n",
       "2   2021-05-05 2021-12-16        NaT  \n",
       "3   2021-04-30 2021-12-13        NaT  \n",
       "4   2021-04-19 2021-12-17 2021-12-22  "
      ]
     },
     "execution_count": 581,
     "metadata": {},
     "output_type": "execute_result"
    }
   ],
   "source": [
    "covid_dates.head()"
   ]
  },
  {
   "cell_type": "markdown",
   "metadata": {},
   "source": [
    "Now, instead of using dates, I will use days after the first university acted in each category."
   ]
  },
  {
   "cell_type": "code",
   "execution_count": 582,
   "metadata": {},
   "outputs": [
    {
     "data": {
      "text/html": [
       "<div>\n",
       "<style scoped>\n",
       "    .dataframe tbody tr th:only-of-type {\n",
       "        vertical-align: middle;\n",
       "    }\n",
       "\n",
       "    .dataframe tbody tr th {\n",
       "        vertical-align: top;\n",
       "    }\n",
       "\n",
       "    .dataframe thead th {\n",
       "        text-align: right;\n",
       "    }\n",
       "</style>\n",
       "<table border=\"1\" class=\"dataframe\">\n",
       "  <thead>\n",
       "    <tr style=\"text-align: right;\">\n",
       "      <th></th>\n",
       "      <th>Unofficial Ranking</th>\n",
       "      <th>state</th>\n",
       "      <th>zip</th>\n",
       "      <th>Ivy</th>\n",
       "      <th>institution type</th>\n",
       "      <th>Spring2020</th>\n",
       "      <th>FirstVaccine</th>\n",
       "      <th>Booster</th>\n",
       "      <th>Spring2022</th>\n",
       "    </tr>\n",
       "  </thead>\n",
       "  <tbody>\n",
       "    <tr>\n",
       "      <th>0</th>\n",
       "      <td>1</td>\n",
       "      <td>NJ</td>\n",
       "      <td>8544</td>\n",
       "      <td>True</td>\n",
       "      <td>Private</td>\n",
       "      <td>5</td>\n",
       "      <td>18.0</td>\n",
       "      <td>10.0</td>\n",
       "      <td>11.0</td>\n",
       "    </tr>\n",
       "    <tr>\n",
       "      <th>1</th>\n",
       "      <td>2</td>\n",
       "      <td>NY</td>\n",
       "      <td>10027</td>\n",
       "      <td>True</td>\n",
       "      <td>Private</td>\n",
       "      <td>6</td>\n",
       "      <td>17.0</td>\n",
       "      <td>10.0</td>\n",
       "      <td>6.0</td>\n",
       "    </tr>\n",
       "    <tr>\n",
       "      <th>2</th>\n",
       "      <td>3</td>\n",
       "      <td>MA</td>\n",
       "      <td>2138</td>\n",
       "      <td>True</td>\n",
       "      <td>Private</td>\n",
       "      <td>4</td>\n",
       "      <td>33.0</td>\n",
       "      <td>10.0</td>\n",
       "      <td>NaN</td>\n",
       "    </tr>\n",
       "    <tr>\n",
       "      <th>3</th>\n",
       "      <td>4</td>\n",
       "      <td>MA</td>\n",
       "      <td>2139</td>\n",
       "      <td>False</td>\n",
       "      <td>Private</td>\n",
       "      <td>4</td>\n",
       "      <td>28.0</td>\n",
       "      <td>7.0</td>\n",
       "      <td>NaN</td>\n",
       "    </tr>\n",
       "    <tr>\n",
       "      <th>4</th>\n",
       "      <td>5</td>\n",
       "      <td>CT</td>\n",
       "      <td>6520</td>\n",
       "      <td>True</td>\n",
       "      <td>Private</td>\n",
       "      <td>4</td>\n",
       "      <td>17.0</td>\n",
       "      <td>11.0</td>\n",
       "      <td>6.0</td>\n",
       "    </tr>\n",
       "  </tbody>\n",
       "</table>\n",
       "</div>"
      ],
      "text/plain": [
       "   Unofficial Ranking state    zip    Ivy institution type  Spring2020  \\\n",
       "0                   1    NJ   8544   True          Private           5   \n",
       "1                   2    NY  10027   True          Private           6   \n",
       "2                   3    MA   2138   True          Private           4   \n",
       "3                   4    MA   2139  False          Private           4   \n",
       "4                   5    CT   6520   True          Private           4   \n",
       "\n",
       "   FirstVaccine  Booster  Spring2022  \n",
       "0          18.0     10.0        11.0  \n",
       "1          17.0     10.0         6.0  \n",
       "2          33.0     10.0         NaN  \n",
       "3          28.0      7.0         NaN  \n",
       "4          17.0     11.0         6.0  "
      ]
     },
     "execution_count": 582,
     "metadata": {},
     "output_type": "execute_result"
    }
   ],
   "source": [
    "covid_dates_only_d = covid_dates[['Spring2020', 'FirstVaccine', 'Booster', 'Spring2022']]\n",
    "first_dates = covid_dates_only_d.min()\n",
    "date_diff = covid_dates_only_d - first_dates\n",
    "covid_dates[['Spring2020', 'FirstVaccine', 'Booster', 'Spring2022']] = date_diff.apply(lambda x: x.dt.days)\n",
    "covid_dates.head()"
   ]
  },
  {
   "cell_type": "markdown",
   "metadata": {},
   "source": [
    "There are two different types of dates here: those that cause a shift to online learning and those that mandate vaccinations. I will average the days for both these categories and create a new column signifying 0 for the former type of date (move online) and 1 for the latter (vaccination)."
   ]
  },
  {
   "cell_type": "markdown",
   "metadata": {},
   "source": [
    "Note that there are some null values in the data, which signify if a university did not act on that specific outcome. This is problematic as if we ignore/impute them, then we lose valuable data--perhaps a certain combination of features entices schools not to act. This would then be ignored in our data (see the section [exploring a different task](#exploring-a-different-task) below for more). So, I will consider not acting as a university taking the largest possible number of days to make the decision * 2 (an arbitrary choice). Thus the predicted outcome will be much higher if a university did not act. I will impute the values below."
   ]
  },
  {
   "cell_type": "code",
   "execution_count": 583,
   "metadata": {},
   "outputs": [],
   "source": [
    "arb_constant = 2\n",
    "max_dates_online = covid_dates[['Spring2020', 'FirstVaccine', 'Booster', 'Spring2022']].max() * arb_constant\n",
    "covid_dates_imputed = covid_dates.fillna(max_dates_online)"
   ]
  },
  {
   "cell_type": "markdown",
   "metadata": {},
   "source": [
    "To ignore the above (no imputing), comment out the above."
   ]
  },
  {
   "cell_type": "code",
   "execution_count": 584,
   "metadata": {},
   "outputs": [],
   "source": [
    "# covid_dates_imputed = covid_dates"
   ]
  },
  {
   "cell_type": "code",
   "execution_count": 585,
   "metadata": {},
   "outputs": [],
   "source": [
    "covid_dates_imputed['online'] = covid_dates_imputed[['Spring2020', 'Spring2022']].mean(axis=1).dropna()\n",
    "covid_dates_imputed['vaccine'] = covid_dates_imputed[['FirstVaccine', 'Booster']].mean(axis=1).dropna()\n",
    "covid_dates_cleaned = covid_dates_imputed.drop(columns=['Spring2020', 'FirstVaccine', 'Booster', 'Spring2022'])"
   ]
  },
  {
   "cell_type": "markdown",
   "metadata": {},
   "source": [
    "Now, I'll separate each university into two rows, one for online and one for vaccine."
   ]
  },
  {
   "cell_type": "code",
   "execution_count": 586,
   "metadata": {},
   "outputs": [],
   "source": [
    "covid_dates_cleaned.rename(columns={'Unofficial Ranking': 'ranking', 'Ivy': 'ivy', 'institution type': 'institution_type'}, \n",
    "                           inplace=True)"
   ]
  },
  {
   "cell_type": "code",
   "execution_count": 587,
   "metadata": {},
   "outputs": [],
   "source": [
    "covid_dates_cleaned = covid_dates_cleaned.melt(id_vars=['ranking', 'state', 'zip', 'ivy', 'institution_type'], var_name=\"decision_type\", value_name=\"days_after_first\")"
   ]
  },
  {
   "cell_type": "markdown",
   "metadata": {},
   "source": [
    "Finally, I'll change ranking to be in groups of 10, i.e., rankings 1-10 encoded with 0, rankings 11-20 encoded with 1, etc (note that 51 will be encoded with a 4). This makes more sense as individual rankings don't matter as much as general cases."
   ]
  },
  {
   "cell_type": "code",
   "execution_count": 588,
   "metadata": {},
   "outputs": [],
   "source": [
    "covid_dates_cleaned['ranking'] = (covid_dates_cleaned['ranking'] - 1)//10\n",
    "covid_dates_cleaned['ranking'] = covid_dates_cleaned['ranking'].where(covid_dates_cleaned[\"ranking\"] != 5, 4)"
   ]
  },
  {
   "cell_type": "code",
   "execution_count": 589,
   "metadata": {},
   "outputs": [
    {
     "data": {
      "text/html": [
       "<div>\n",
       "<style scoped>\n",
       "    .dataframe tbody tr th:only-of-type {\n",
       "        vertical-align: middle;\n",
       "    }\n",
       "\n",
       "    .dataframe tbody tr th {\n",
       "        vertical-align: top;\n",
       "    }\n",
       "\n",
       "    .dataframe thead th {\n",
       "        text-align: right;\n",
       "    }\n",
       "</style>\n",
       "<table border=\"1\" class=\"dataframe\">\n",
       "  <thead>\n",
       "    <tr style=\"text-align: right;\">\n",
       "      <th></th>\n",
       "      <th>ranking</th>\n",
       "      <th>state</th>\n",
       "      <th>zip</th>\n",
       "      <th>ivy</th>\n",
       "      <th>institution_type</th>\n",
       "      <th>decision_type</th>\n",
       "      <th>days_after_first</th>\n",
       "    </tr>\n",
       "  </thead>\n",
       "  <tbody>\n",
       "    <tr>\n",
       "      <th>0</th>\n",
       "      <td>0</td>\n",
       "      <td>NJ</td>\n",
       "      <td>8544</td>\n",
       "      <td>True</td>\n",
       "      <td>Private</td>\n",
       "      <td>online</td>\n",
       "      <td>8.0</td>\n",
       "    </tr>\n",
       "    <tr>\n",
       "      <th>1</th>\n",
       "      <td>0</td>\n",
       "      <td>NY</td>\n",
       "      <td>10027</td>\n",
       "      <td>True</td>\n",
       "      <td>Private</td>\n",
       "      <td>online</td>\n",
       "      <td>6.0</td>\n",
       "    </tr>\n",
       "    <tr>\n",
       "      <th>2</th>\n",
       "      <td>0</td>\n",
       "      <td>MA</td>\n",
       "      <td>2138</td>\n",
       "      <td>True</td>\n",
       "      <td>Private</td>\n",
       "      <td>online</td>\n",
       "      <td>24.0</td>\n",
       "    </tr>\n",
       "    <tr>\n",
       "      <th>3</th>\n",
       "      <td>0</td>\n",
       "      <td>MA</td>\n",
       "      <td>2139</td>\n",
       "      <td>False</td>\n",
       "      <td>Private</td>\n",
       "      <td>online</td>\n",
       "      <td>24.0</td>\n",
       "    </tr>\n",
       "    <tr>\n",
       "      <th>4</th>\n",
       "      <td>0</td>\n",
       "      <td>CT</td>\n",
       "      <td>6520</td>\n",
       "      <td>True</td>\n",
       "      <td>Private</td>\n",
       "      <td>online</td>\n",
       "      <td>5.0</td>\n",
       "    </tr>\n",
       "  </tbody>\n",
       "</table>\n",
       "</div>"
      ],
      "text/plain": [
       "   ranking state    zip    ivy institution_type decision_type  \\\n",
       "0        0    NJ   8544   True          Private        online   \n",
       "1        0    NY  10027   True          Private        online   \n",
       "2        0    MA   2138   True          Private        online   \n",
       "3        0    MA   2139  False          Private        online   \n",
       "4        0    CT   6520   True          Private        online   \n",
       "\n",
       "   days_after_first  \n",
       "0               8.0  \n",
       "1               6.0  \n",
       "2              24.0  \n",
       "3              24.0  \n",
       "4               5.0  "
      ]
     },
     "execution_count": 589,
     "metadata": {},
     "output_type": "execute_result"
    }
   ],
   "source": [
    "covid_dates_cleaned.head()"
   ]
  },
  {
   "cell_type": "markdown",
   "metadata": {},
   "source": [
    "### Extracting Data from Zip Codes Using the Census Bureau Data API\n",
    "As inspired by [this article on leveraging value from postal codes](https://towardsdatascience.com/leveraging-value-from-postal-codes-naics-codes-area-codes-and-other-funky-arse-categorical-be9ce75b6d5a), I'll extract mean information for each zip code and use as features, not the zip code itself. I'm following [these reddit comments](https://www.reddit.com/r/datasets/comments/i2g55u/demographic_data_sets_by_zip_code_free/) as a guide. I will be using the [census package](https://pypi.org/project/census/) for Python and the census api. Also, I'm storing my api key as an env variable so I don't accidentally push it to Github. See [here](https://able.bio/rhett/how-to-set-and-get-environment-variables-in-python--274rgt5) for more.\n",
    "\n",
    "\"This product uses the Census Bureau Data API but is not endorsed or certified by the Census Bureau.\""
   ]
  },
  {
   "cell_type": "code",
   "execution_count": 590,
   "metadata": {},
   "outputs": [],
   "source": [
    "from census import Census\n",
    "import os\n",
    "census_api_key = os.getenv('api_key_census')\n",
    "c = Census(census_api_key, year=2020)"
   ]
  },
  {
   "cell_type": "markdown",
   "metadata": {},
   "source": [
    "I will get data from [ACS 5-year data](https://www.census.gov/data/developers/data-sets/acs-5year.html) in 2020, as that's the closest available year to the pandemic and will give us a general sense of the demographic variables of the location the university is in. I would prefer to use data from 2020-2022, which is when colleges made these decisions, but unfortunately that's not available. There is ACS 1-year data, but that doesn't have zip code support, at least not in the package.\n",
    "\n",
    "Here's a list of variables."
   ]
  },
  {
   "cell_type": "code",
   "execution_count": 591,
   "metadata": {},
   "outputs": [
    {
     "data": {
      "text/html": [
       "<div>\n",
       "<style scoped>\n",
       "    .dataframe tbody tr th:only-of-type {\n",
       "        vertical-align: middle;\n",
       "    }\n",
       "\n",
       "    .dataframe tbody tr th {\n",
       "        vertical-align: top;\n",
       "    }\n",
       "\n",
       "    .dataframe thead th {\n",
       "        text-align: right;\n",
       "    }\n",
       "</style>\n",
       "<table border=\"1\" class=\"dataframe\">\n",
       "  <thead>\n",
       "    <tr style=\"text-align: right;\">\n",
       "      <th></th>\n",
       "      <th>name</th>\n",
       "      <th>description</th>\n",
       "      <th>variables</th>\n",
       "      <th>universe</th>\n",
       "    </tr>\n",
       "  </thead>\n",
       "  <tbody>\n",
       "    <tr>\n",
       "      <th>0</th>\n",
       "      <td>B17015</td>\n",
       "      <td>POVERTY STATUS IN THE PAST 12 MONTHS OF FAMILI...</td>\n",
       "      <td>http://api.census.gov/data/2020/acs/acs5/group...</td>\n",
       "      <td>FAMILY</td>\n",
       "    </tr>\n",
       "    <tr>\n",
       "      <th>1</th>\n",
       "      <td>B18104</td>\n",
       "      <td>SEX BY AGE BY COGNITIVE DIFFICULTY</td>\n",
       "      <td>http://api.census.gov/data/2020/acs/acs5/group...</td>\n",
       "      <td>NONINST_05_OVER</td>\n",
       "    </tr>\n",
       "    <tr>\n",
       "      <th>2</th>\n",
       "      <td>B17016</td>\n",
       "      <td>POVERTY STATUS IN THE PAST 12 MONTHS OF FAMILI...</td>\n",
       "      <td>http://api.census.gov/data/2020/acs/acs5/group...</td>\n",
       "      <td>FAMILY</td>\n",
       "    </tr>\n",
       "    <tr>\n",
       "      <th>3</th>\n",
       "      <td>B18105</td>\n",
       "      <td>SEX BY AGE BY AMBULATORY DIFFICULTY</td>\n",
       "      <td>http://api.census.gov/data/2020/acs/acs5/group...</td>\n",
       "      <td>NONINST_05_OVER</td>\n",
       "    </tr>\n",
       "    <tr>\n",
       "      <th>4</th>\n",
       "      <td>B17017</td>\n",
       "      <td>POVERTY STATUS IN THE PAST 12 MONTHS BY HOUSEH...</td>\n",
       "      <td>http://api.census.gov/data/2020/acs/acs5/group...</td>\n",
       "      <td>HSHLD</td>\n",
       "    </tr>\n",
       "    <tr>\n",
       "      <th>...</th>\n",
       "      <td>...</td>\n",
       "      <td>...</td>\n",
       "      <td>...</td>\n",
       "      <td>...</td>\n",
       "    </tr>\n",
       "    <tr>\n",
       "      <th>1135</th>\n",
       "      <td>B99131</td>\n",
       "      <td>ALLOCATION OF MARITAL STATUS FOR FEMALES 15 TO...</td>\n",
       "      <td>http://api.census.gov/data/2020/acs/acs5/group...</td>\n",
       "      <td>WOMEN_15_50</td>\n",
       "    </tr>\n",
       "    <tr>\n",
       "      <th>1136</th>\n",
       "      <td>B09018</td>\n",
       "      <td>RELATIONSHIP TO HOUSEHOLDER FOR CHILDREN UNDER...</td>\n",
       "      <td>http://api.census.gov/data/2020/acs/acs5/group...</td>\n",
       "      <td>POP_18_UNDER_HSHLD_EXCL</td>\n",
       "    </tr>\n",
       "    <tr>\n",
       "      <th>1137</th>\n",
       "      <td>B09019</td>\n",
       "      <td>HOUSEHOLD TYPE (INCLUDING LIVING ALONE) BY REL...</td>\n",
       "      <td>http://api.census.gov/data/2020/acs/acs5/group...</td>\n",
       "      <td>TOTAL_POP</td>\n",
       "    </tr>\n",
       "    <tr>\n",
       "      <th>1138</th>\n",
       "      <td>B99132</td>\n",
       "      <td>ALLOCATION OF FERTILITY OF WOMEN 15 TO 50 YEARS</td>\n",
       "      <td>http://api.census.gov/data/2020/acs/acs5/group...</td>\n",
       "      <td>WOMEN_15_50</td>\n",
       "    </tr>\n",
       "    <tr>\n",
       "      <th>1139</th>\n",
       "      <td>B09010</td>\n",
       "      <td>RECEIPT OF SUPPLEMENTAL SECURITY INCOME (SSI),...</td>\n",
       "      <td>http://api.census.gov/data/2020/acs/acs5/group...</td>\n",
       "      <td>POP_18_UNDER_HSHLD</td>\n",
       "    </tr>\n",
       "  </tbody>\n",
       "</table>\n",
       "<p>1140 rows × 4 columns</p>\n",
       "</div>"
      ],
      "text/plain": [
       "        name                                        description  \\\n",
       "0     B17015  POVERTY STATUS IN THE PAST 12 MONTHS OF FAMILI...   \n",
       "1     B18104                 SEX BY AGE BY COGNITIVE DIFFICULTY   \n",
       "2     B17016  POVERTY STATUS IN THE PAST 12 MONTHS OF FAMILI...   \n",
       "3     B18105                SEX BY AGE BY AMBULATORY DIFFICULTY   \n",
       "4     B17017  POVERTY STATUS IN THE PAST 12 MONTHS BY HOUSEH...   \n",
       "...      ...                                                ...   \n",
       "1135  B99131  ALLOCATION OF MARITAL STATUS FOR FEMALES 15 TO...   \n",
       "1136  B09018  RELATIONSHIP TO HOUSEHOLDER FOR CHILDREN UNDER...   \n",
       "1137  B09019  HOUSEHOLD TYPE (INCLUDING LIVING ALONE) BY REL...   \n",
       "1138  B99132    ALLOCATION OF FERTILITY OF WOMEN 15 TO 50 YEARS   \n",
       "1139  B09010  RECEIPT OF SUPPLEMENTAL SECURITY INCOME (SSI),...   \n",
       "\n",
       "                                              variables  \\\n",
       "0     http://api.census.gov/data/2020/acs/acs5/group...   \n",
       "1     http://api.census.gov/data/2020/acs/acs5/group...   \n",
       "2     http://api.census.gov/data/2020/acs/acs5/group...   \n",
       "3     http://api.census.gov/data/2020/acs/acs5/group...   \n",
       "4     http://api.census.gov/data/2020/acs/acs5/group...   \n",
       "...                                                 ...   \n",
       "1135  http://api.census.gov/data/2020/acs/acs5/group...   \n",
       "1136  http://api.census.gov/data/2020/acs/acs5/group...   \n",
       "1137  http://api.census.gov/data/2020/acs/acs5/group...   \n",
       "1138  http://api.census.gov/data/2020/acs/acs5/group...   \n",
       "1139  http://api.census.gov/data/2020/acs/acs5/group...   \n",
       "\n",
       "                    universe   \n",
       "0                      FAMILY  \n",
       "1             NONINST_05_OVER  \n",
       "2                      FAMILY  \n",
       "3             NONINST_05_OVER  \n",
       "4                       HSHLD  \n",
       "...                       ...  \n",
       "1135              WOMEN_15_50  \n",
       "1136  POP_18_UNDER_HSHLD_EXCL  \n",
       "1137                TOTAL_POP  \n",
       "1138              WOMEN_15_50  \n",
       "1139       POP_18_UNDER_HSHLD  \n",
       "\n",
       "[1140 rows x 4 columns]"
      ]
     },
     "execution_count": 591,
     "metadata": {},
     "output_type": "execute_result"
    }
   ],
   "source": [
    "pd.DataFrame.from_dict(c.acs5.tables())"
   ]
  },
  {
   "cell_type": "markdown",
   "metadata": {},
   "source": [
    "In this project, I will just get an assortment of basic demographic variables into a new dataframe, then merge it with my university data. A more sophisticated analysis could have a greater basis for choosing such variables."
   ]
  },
  {
   "cell_type": "markdown",
   "metadata": {},
   "source": [
    "Save variables to excel for easy browsing. Use [this guide to subject definitions](https://www2.census.gov/programs-surveys/acs/tech_docs/subject_definitions/2020_ACSSubjectDefinitions.pdf) for detailed help."
   ]
  },
  {
   "cell_type": "code",
   "execution_count": 592,
   "metadata": {},
   "outputs": [],
   "source": [
    "# pd.DataFrame.from_dict(c.acs5.tables()).to_excel('acs5_vars.xlsx')"
   ]
  },
  {
   "cell_type": "markdown",
   "metadata": {},
   "source": [
    "An example for median income in past 12 months for Columbia's zip code."
   ]
  },
  {
   "cell_type": "code",
   "execution_count": 593,
   "metadata": {},
   "outputs": [
    {
     "data": {
      "text/plain": [
       "[{'B07011_001E': 32100.0, 'zip code tabulation area': '10027'}]"
      ]
     },
     "execution_count": 593,
     "metadata": {},
     "output_type": "execute_result"
    }
   ],
   "source": [
    "c.acs5.state_zipcode('B07011_001E', 36, 10027)"
   ]
  },
  {
   "cell_type": "markdown",
   "metadata": {},
   "source": [
    "I need to collect the codes for all the variables and the fips for each state (using [unitedstates package](https://github.com/unitedstates/python-us)). First I'll do fips."
   ]
  },
  {
   "cell_type": "code",
   "execution_count": 594,
   "metadata": {},
   "outputs": [],
   "source": [
    "import us"
   ]
  },
  {
   "cell_type": "code",
   "execution_count": 595,
   "metadata": {},
   "outputs": [
    {
     "data": {
      "text/html": [
       "<div>\n",
       "<style scoped>\n",
       "    .dataframe tbody tr th:only-of-type {\n",
       "        vertical-align: middle;\n",
       "    }\n",
       "\n",
       "    .dataframe tbody tr th {\n",
       "        vertical-align: top;\n",
       "    }\n",
       "\n",
       "    .dataframe thead th {\n",
       "        text-align: right;\n",
       "    }\n",
       "</style>\n",
       "<table border=\"1\" class=\"dataframe\">\n",
       "  <thead>\n",
       "    <tr style=\"text-align: right;\">\n",
       "      <th></th>\n",
       "      <th>ranking</th>\n",
       "      <th>state</th>\n",
       "      <th>zip</th>\n",
       "      <th>ivy</th>\n",
       "      <th>institution_type</th>\n",
       "      <th>decision_type</th>\n",
       "      <th>days_after_first</th>\n",
       "      <th>state_fips</th>\n",
       "    </tr>\n",
       "  </thead>\n",
       "  <tbody>\n",
       "    <tr>\n",
       "      <th>0</th>\n",
       "      <td>0</td>\n",
       "      <td>NJ</td>\n",
       "      <td>8544</td>\n",
       "      <td>True</td>\n",
       "      <td>Private</td>\n",
       "      <td>online</td>\n",
       "      <td>8.0</td>\n",
       "      <td>34</td>\n",
       "    </tr>\n",
       "    <tr>\n",
       "      <th>1</th>\n",
       "      <td>0</td>\n",
       "      <td>NY</td>\n",
       "      <td>10027</td>\n",
       "      <td>True</td>\n",
       "      <td>Private</td>\n",
       "      <td>online</td>\n",
       "      <td>6.0</td>\n",
       "      <td>36</td>\n",
       "    </tr>\n",
       "    <tr>\n",
       "      <th>2</th>\n",
       "      <td>0</td>\n",
       "      <td>MA</td>\n",
       "      <td>2138</td>\n",
       "      <td>True</td>\n",
       "      <td>Private</td>\n",
       "      <td>online</td>\n",
       "      <td>24.0</td>\n",
       "      <td>25</td>\n",
       "    </tr>\n",
       "    <tr>\n",
       "      <th>3</th>\n",
       "      <td>0</td>\n",
       "      <td>MA</td>\n",
       "      <td>2139</td>\n",
       "      <td>False</td>\n",
       "      <td>Private</td>\n",
       "      <td>online</td>\n",
       "      <td>24.0</td>\n",
       "      <td>25</td>\n",
       "    </tr>\n",
       "    <tr>\n",
       "      <th>4</th>\n",
       "      <td>0</td>\n",
       "      <td>CT</td>\n",
       "      <td>6520</td>\n",
       "      <td>True</td>\n",
       "      <td>Private</td>\n",
       "      <td>online</td>\n",
       "      <td>5.0</td>\n",
       "      <td>09</td>\n",
       "    </tr>\n",
       "  </tbody>\n",
       "</table>\n",
       "</div>"
      ],
      "text/plain": [
       "   ranking state    zip    ivy institution_type decision_type  \\\n",
       "0        0    NJ   8544   True          Private        online   \n",
       "1        0    NY  10027   True          Private        online   \n",
       "2        0    MA   2138   True          Private        online   \n",
       "3        0    MA   2139  False          Private        online   \n",
       "4        0    CT   6520   True          Private        online   \n",
       "\n",
       "   days_after_first state_fips  \n",
       "0               8.0         34  \n",
       "1               6.0         36  \n",
       "2              24.0         25  \n",
       "3              24.0         25  \n",
       "4               5.0         09  "
      ]
     },
     "execution_count": 595,
     "metadata": {},
     "output_type": "execute_result"
    }
   ],
   "source": [
    "state_fips = us.states.mapping('abbr', 'fips')\n",
    "covid_dates_cleaned['state_fips'] = covid_dates_cleaned['state'].apply(lambda x: state_fips[x])\n",
    "covid_dates_cleaned.head()"
   ]
  },
  {
   "cell_type": "markdown",
   "metadata": {},
   "source": [
    "Now, I need to **select variables**. I think median income, population size, and political leaning could be interesting variables to start with. Note that political leaning is not available; I need to obtain it myself. It's specifically important here because Republicans and Democrats have different COVID responses; for example, a lot of Republican-led states may have more lax restrictions."
   ]
  },
  {
   "cell_type": "code",
   "execution_count": 597,
   "metadata": {},
   "outputs": [],
   "source": [
    "census_vars = {'B07011_001E': 'median_income', 'B01003_001E': 'total_population'}"
   ]
  },
  {
   "cell_type": "markdown",
   "metadata": {},
   "source": [
    "Note that some zip codes don't have corresponding values. See the zip code for Princeton, NJ."
   ]
  },
  {
   "cell_type": "code",
   "execution_count": 599,
   "metadata": {},
   "outputs": [],
   "source": [
    "v = list(census_vars.keys())[0]"
   ]
  },
  {
   "cell_type": "code",
   "execution_count": 600,
   "metadata": {},
   "outputs": [
    {
     "data": {
      "text/plain": [
       "[]"
      ]
     },
     "execution_count": 600,
     "metadata": {},
     "output_type": "execute_result"
    }
   ],
   "source": [
    "c.acs5.state_zipcode(v, 34, '08544')"
   ]
  },
  {
   "cell_type": "markdown",
   "metadata": {},
   "source": [
    "So, I'll try to get the corresponding variables from one geographic level up. For example, the county fips for Mercer County (where Princeton, NJ is located) is 021. Using this gets a result."
   ]
  },
  {
   "cell_type": "code",
   "execution_count": 601,
   "metadata": {},
   "outputs": [
    {
     "data": {
      "text/plain": [
       "[{'B07011_001E': 37223.0, 'state': '34', 'county': '021'}]"
      ]
     },
     "execution_count": 601,
     "metadata": {},
     "output_type": "execute_result"
    }
   ],
   "source": [
    "c.acs5.state_county(v, 34, '021')"
   ]
  },
  {
   "cell_type": "markdown",
   "metadata": {},
   "source": [
    "So, I need to extract the county fips from the zip code. I can do this using the [US Zipcodes to County State to FIPS Crosswalk](https://www.kaggle.com/datasets/danofer/zipcodes-county-fips-crosswalk) dataset. Note that the first two digits of the county fips correspond to the state fips, and the last three digits of STCOUNTYFP correspond to the county fips [as seen here](https://www2.census.gov/geo/pdfs/maps-data/data/tiger/tiger2006se/app_a03.pdf)."
   ]
  },
  {
   "cell_type": "code",
   "execution_count": 602,
   "metadata": {},
   "outputs": [
    {
     "data": {
      "text/html": [
       "<div>\n",
       "<style scoped>\n",
       "    .dataframe tbody tr th:only-of-type {\n",
       "        vertical-align: middle;\n",
       "    }\n",
       "\n",
       "    .dataframe tbody tr th {\n",
       "        vertical-align: top;\n",
       "    }\n",
       "\n",
       "    .dataframe thead th {\n",
       "        text-align: right;\n",
       "    }\n",
       "</style>\n",
       "<table border=\"1\" class=\"dataframe\">\n",
       "  <thead>\n",
       "    <tr style=\"text-align: right;\">\n",
       "      <th></th>\n",
       "      <th>ZIP</th>\n",
       "      <th>COUNTYNAME</th>\n",
       "      <th>STATE</th>\n",
       "      <th>STCOUNTYFP</th>\n",
       "      <th>CLASSFP</th>\n",
       "    </tr>\n",
       "  </thead>\n",
       "  <tbody>\n",
       "    <tr>\n",
       "      <th>0</th>\n",
       "      <td>36003</td>\n",
       "      <td>Autauga County</td>\n",
       "      <td>AL</td>\n",
       "      <td>1001</td>\n",
       "      <td>H1</td>\n",
       "    </tr>\n",
       "    <tr>\n",
       "      <th>1</th>\n",
       "      <td>36006</td>\n",
       "      <td>Autauga County</td>\n",
       "      <td>AL</td>\n",
       "      <td>1001</td>\n",
       "      <td>H1</td>\n",
       "    </tr>\n",
       "    <tr>\n",
       "      <th>2</th>\n",
       "      <td>36067</td>\n",
       "      <td>Autauga County</td>\n",
       "      <td>AL</td>\n",
       "      <td>1001</td>\n",
       "      <td>H1</td>\n",
       "    </tr>\n",
       "    <tr>\n",
       "      <th>3</th>\n",
       "      <td>36066</td>\n",
       "      <td>Autauga County</td>\n",
       "      <td>AL</td>\n",
       "      <td>1001</td>\n",
       "      <td>H1</td>\n",
       "    </tr>\n",
       "    <tr>\n",
       "      <th>4</th>\n",
       "      <td>36703</td>\n",
       "      <td>Autauga County</td>\n",
       "      <td>AL</td>\n",
       "      <td>1001</td>\n",
       "      <td>H1</td>\n",
       "    </tr>\n",
       "  </tbody>\n",
       "</table>\n",
       "</div>"
      ],
      "text/plain": [
       "     ZIP      COUNTYNAME STATE  STCOUNTYFP CLASSFP\n",
       "0  36003  Autauga County    AL        1001      H1\n",
       "1  36006  Autauga County    AL        1001      H1\n",
       "2  36067  Autauga County    AL        1001      H1\n",
       "3  36066  Autauga County    AL        1001      H1\n",
       "4  36703  Autauga County    AL        1001      H1"
      ]
     },
     "execution_count": 602,
     "metadata": {},
     "output_type": "execute_result"
    }
   ],
   "source": [
    "county_zips = pd.read_csv('zip-county-fips/ZIP-COUNTY-FIPS_2017-06.csv')\n",
    "county_zips.head()"
   ]
  },
  {
   "cell_type": "code",
   "execution_count": 603,
   "metadata": {},
   "outputs": [],
   "source": [
    "covid_dates_cleaned = covid_dates_cleaned.merge(county_zips[[\"ZIP\", \"STATE\", \"STCOUNTYFP\"]], left_on=[\"state\", \"zip\"], right_on=[\"STATE\", \"ZIP\"]).drop(columns=[\"ZIP\", \"STATE\"])"
   ]
  },
  {
   "cell_type": "code",
   "execution_count": 604,
   "metadata": {},
   "outputs": [],
   "source": [
    "covid_dates_cleaned[\"county_fips\"] = covid_dates_cleaned[\"STCOUNTYFP\"]%1000"
   ]
  },
  {
   "cell_type": "markdown",
   "metadata": {},
   "source": [
    "Now, try through the api with county"
   ]
  },
  {
   "cell_type": "code",
   "execution_count": 605,
   "metadata": {},
   "outputs": [
    {
     "data": {
      "text/plain": [
       "[{'B07011_001E': 37223.0, 'state': '34', 'county': '021'}]"
      ]
     },
     "execution_count": 605,
     "metadata": {},
     "output_type": "execute_result"
    }
   ],
   "source": [
    "c.acs5.state_county(v, 34, '021')"
   ]
  },
  {
   "cell_type": "code",
   "execution_count": 606,
   "metadata": {},
   "outputs": [
    {
     "data": {
      "text/html": [
       "<div>\n",
       "<style scoped>\n",
       "    .dataframe tbody tr th:only-of-type {\n",
       "        vertical-align: middle;\n",
       "    }\n",
       "\n",
       "    .dataframe tbody tr th {\n",
       "        vertical-align: top;\n",
       "    }\n",
       "\n",
       "    .dataframe thead th {\n",
       "        text-align: right;\n",
       "    }\n",
       "</style>\n",
       "<table border=\"1\" class=\"dataframe\">\n",
       "  <thead>\n",
       "    <tr style=\"text-align: right;\">\n",
       "      <th></th>\n",
       "      <th>state_fips</th>\n",
       "      <th>county_fips</th>\n",
       "    </tr>\n",
       "  </thead>\n",
       "  <tbody>\n",
       "    <tr>\n",
       "      <th>0</th>\n",
       "      <td>34</td>\n",
       "      <td>21</td>\n",
       "    </tr>\n",
       "    <tr>\n",
       "      <th>1</th>\n",
       "      <td>34</td>\n",
       "      <td>21</td>\n",
       "    </tr>\n",
       "    <tr>\n",
       "      <th>2</th>\n",
       "      <td>36</td>\n",
       "      <td>61</td>\n",
       "    </tr>\n",
       "    <tr>\n",
       "      <th>3</th>\n",
       "      <td>36</td>\n",
       "      <td>61</td>\n",
       "    </tr>\n",
       "    <tr>\n",
       "      <th>4</th>\n",
       "      <td>25</td>\n",
       "      <td>17</td>\n",
       "    </tr>\n",
       "    <tr>\n",
       "      <th>...</th>\n",
       "      <td>...</td>\n",
       "      <td>...</td>\n",
       "    </tr>\n",
       "    <tr>\n",
       "      <th>109</th>\n",
       "      <td>42</td>\n",
       "      <td>95</td>\n",
       "    </tr>\n",
       "    <tr>\n",
       "      <th>110</th>\n",
       "      <td>25</td>\n",
       "      <td>25</td>\n",
       "    </tr>\n",
       "    <tr>\n",
       "      <th>111</th>\n",
       "      <td>25</td>\n",
       "      <td>25</td>\n",
       "    </tr>\n",
       "    <tr>\n",
       "      <th>112</th>\n",
       "      <td>39</td>\n",
       "      <td>49</td>\n",
       "    </tr>\n",
       "    <tr>\n",
       "      <th>113</th>\n",
       "      <td>39</td>\n",
       "      <td>49</td>\n",
       "    </tr>\n",
       "  </tbody>\n",
       "</table>\n",
       "<p>114 rows × 2 columns</p>\n",
       "</div>"
      ],
      "text/plain": [
       "    state_fips  county_fips\n",
       "0           34           21\n",
       "1           34           21\n",
       "2           36           61\n",
       "3           36           61\n",
       "4           25           17\n",
       "..         ...          ...\n",
       "109         42           95\n",
       "110         25           25\n",
       "111         25           25\n",
       "112         39           49\n",
       "113         39           49\n",
       "\n",
       "[114 rows x 2 columns]"
      ]
     },
     "execution_count": 606,
     "metadata": {},
     "output_type": "execute_result"
    }
   ],
   "source": [
    "covid_dates_cleaned[['state_fips', 'county_fips']]"
   ]
  },
  {
   "cell_type": "code",
   "execution_count": 607,
   "metadata": {},
   "outputs": [
    {
     "data": {
      "text/plain": [
       "[{'B07011_001E': 37223.0, 'state': '34', 'county': '021'}]"
      ]
     },
     "execution_count": 607,
     "metadata": {},
     "output_type": "execute_result"
    }
   ],
   "source": [
    "c.acs5.state_county(v, 34, '021')"
   ]
  },
  {
   "cell_type": "markdown",
   "metadata": {},
   "source": [
    "This works, so I will use counties, which should all have values (unlike zip codes). Before I call the api, I need to make sure I found county fips for all counties present."
   ]
  },
  {
   "cell_type": "code",
   "execution_count": 608,
   "metadata": {},
   "outputs": [
    {
     "data": {
      "text/plain": [
       "0"
      ]
     },
     "execution_count": 608,
     "metadata": {},
     "output_type": "execute_result"
    }
   ],
   "source": [
    "covid_dates_cleaned['county_fips'].isna().sum()"
   ]
  },
  {
   "cell_type": "markdown",
   "metadata": {},
   "source": [
    "Also, I need to pad zeros for the api."
   ]
  },
  {
   "cell_type": "code",
   "execution_count": 609,
   "metadata": {},
   "outputs": [],
   "source": [
    "covid_dates_cleaned['county_fips_str'] = covid_dates_cleaned['county_fips'].astype(str).str.zfill(3)"
   ]
  },
  {
   "cell_type": "markdown",
   "metadata": {},
   "source": [
    "Now, create a function that we can apply to each row of the dataframe that will call the api and get the desired census variables (held in ```census_vars```). Note that we only want this for unique rows."
   ]
  },
  {
   "cell_type": "code",
   "execution_count": 610,
   "metadata": {},
   "outputs": [],
   "source": [
    "api_return_cols = list(census_vars.values()) + ['state', 'county']\n",
    "def separate_county_fips(x, *v):    \n",
    "    api_return = c.acs5.state_county(v, x[0], x[1]) # returns dict in a list if found; empty list if not    \n",
    "    try:\n",
    "        api_return_clean = pd.Series(api_return[0])\n",
    "        return api_return_clean.rename(census_vars) \n",
    "    except:\n",
    "        no_api_return = pd.Series(index=api_return_cols, dtype='object')\n",
    "        no_api_return[['state', 'county']] = x.values\n",
    "        return no_api_return"
   ]
  },
  {
   "cell_type": "markdown",
   "metadata": {},
   "source": [
    "Note that I can obtain multiple fields from the same api call. This will be better than using a for-loop."
   ]
  },
  {
   "cell_type": "code",
   "execution_count": 611,
   "metadata": {},
   "outputs": [
    {
     "data": {
      "text/plain": [
       "['B07011_001E', 'B01003_001E']"
      ]
     },
     "execution_count": 611,
     "metadata": {},
     "output_type": "execute_result"
    }
   ],
   "source": [
    "census_var_names = list(census_vars.keys())\n",
    "census_var_names"
   ]
  },
  {
   "cell_type": "code",
   "execution_count": 613,
   "metadata": {},
   "outputs": [
    {
     "data": {
      "text/plain": [
       "[{'B07011_001E': 37223.0,\n",
       "  'B01003_001E': 368085.0,\n",
       "  'state': '34',\n",
       "  'county': '021'}]"
      ]
     },
     "execution_count": 613,
     "metadata": {},
     "output_type": "execute_result"
    }
   ],
   "source": [
    "c.acs5.state_county(census_var_names, 34, '021')"
   ]
  },
  {
   "cell_type": "markdown",
   "metadata": {},
   "source": [
    "Do a quick check to make sure it handles non-existant inputs correctly."
   ]
  },
  {
   "cell_type": "code",
   "execution_count": 614,
   "metadata": {},
   "outputs": [
    {
     "data": {
      "text/html": [
       "<div>\n",
       "<style scoped>\n",
       "    .dataframe tbody tr th:only-of-type {\n",
       "        vertical-align: middle;\n",
       "    }\n",
       "\n",
       "    .dataframe tbody tr th {\n",
       "        vertical-align: top;\n",
       "    }\n",
       "\n",
       "    .dataframe thead th {\n",
       "        text-align: right;\n",
       "    }\n",
       "</style>\n",
       "<table border=\"1\" class=\"dataframe\">\n",
       "  <thead>\n",
       "    <tr style=\"text-align: right;\">\n",
       "      <th></th>\n",
       "      <th>median_income</th>\n",
       "      <th>total_population</th>\n",
       "      <th>state</th>\n",
       "      <th>county</th>\n",
       "    </tr>\n",
       "  </thead>\n",
       "  <tbody>\n",
       "    <tr>\n",
       "      <th>0</th>\n",
       "      <td>NaN</td>\n",
       "      <td>NaN</td>\n",
       "      <td>34</td>\n",
       "      <td>111</td>\n",
       "    </tr>\n",
       "    <tr>\n",
       "      <th>1</th>\n",
       "      <td>52409.0</td>\n",
       "      <td>1629153.0</td>\n",
       "      <td>36</td>\n",
       "      <td>061</td>\n",
       "    </tr>\n",
       "  </tbody>\n",
       "</table>\n",
       "</div>"
      ],
      "text/plain": [
       "   median_income  total_population state county\n",
       "0            NaN               NaN    34    111\n",
       "1        52409.0         1629153.0    36    061"
      ]
     },
     "execution_count": 614,
     "metadata": {},
     "output_type": "execute_result"
    }
   ],
   "source": [
    "testing_df = pd.DataFrame({'state_fips': [34, 36], 'county_fips_str': ['111', '061']})\n",
    "testing_output = testing_df.drop_duplicates().apply(separate_county_fips, args=(census_var_names), axis=1)\n",
    "testing_output"
   ]
  },
  {
   "cell_type": "markdown",
   "metadata": {},
   "source": [
    "Now, I need to call the api on all my census variables using the above. Create a new df with target values, then merge."
   ]
  },
  {
   "cell_type": "code",
   "execution_count": 615,
   "metadata": {},
   "outputs": [
    {
     "data": {
      "text/html": [
       "<div>\n",
       "<style scoped>\n",
       "    .dataframe tbody tr th:only-of-type {\n",
       "        vertical-align: middle;\n",
       "    }\n",
       "\n",
       "    .dataframe tbody tr th {\n",
       "        vertical-align: top;\n",
       "    }\n",
       "\n",
       "    .dataframe thead th {\n",
       "        text-align: right;\n",
       "    }\n",
       "</style>\n",
       "<table border=\"1\" class=\"dataframe\">\n",
       "  <thead>\n",
       "    <tr style=\"text-align: right;\">\n",
       "      <th></th>\n",
       "      <th>median_income</th>\n",
       "      <th>total_population</th>\n",
       "      <th>state</th>\n",
       "      <th>county</th>\n",
       "    </tr>\n",
       "  </thead>\n",
       "  <tbody>\n",
       "    <tr>\n",
       "      <th>0</th>\n",
       "      <td>37223.0</td>\n",
       "      <td>368085.0</td>\n",
       "      <td>34</td>\n",
       "      <td>021</td>\n",
       "    </tr>\n",
       "    <tr>\n",
       "      <th>2</th>\n",
       "      <td>52409.0</td>\n",
       "      <td>1629153.0</td>\n",
       "      <td>36</td>\n",
       "      <td>061</td>\n",
       "    </tr>\n",
       "    <tr>\n",
       "      <th>4</th>\n",
       "      <td>48230.0</td>\n",
       "      <td>1605899.0</td>\n",
       "      <td>25</td>\n",
       "      <td>017</td>\n",
       "    </tr>\n",
       "    <tr>\n",
       "      <th>8</th>\n",
       "      <td>36670.0</td>\n",
       "      <td>855733.0</td>\n",
       "      <td>09</td>\n",
       "      <td>009</td>\n",
       "    </tr>\n",
       "    <tr>\n",
       "      <th>10</th>\n",
       "      <td>50030.0</td>\n",
       "      <td>1924379.0</td>\n",
       "      <td>06</td>\n",
       "      <td>085</td>\n",
       "    </tr>\n",
       "  </tbody>\n",
       "</table>\n",
       "</div>"
      ],
      "text/plain": [
       "    median_income  total_population state county\n",
       "0         37223.0          368085.0    34    021\n",
       "2         52409.0         1629153.0    36    061\n",
       "4         48230.0         1605899.0    25    017\n",
       "8         36670.0          855733.0    09    009\n",
       "10        50030.0         1924379.0    06    085"
      ]
     },
     "execution_count": 615,
     "metadata": {},
     "output_type": "execute_result"
    }
   ],
   "source": [
    "census_vars_counties = covid_dates_cleaned[['state_fips', 'county_fips_str']].drop_duplicates().apply(separate_county_fips, args=(census_var_names), axis=1)\n",
    "census_vars_counties.head()"
   ]
  },
  {
   "cell_type": "code",
   "execution_count": 625,
   "metadata": {},
   "outputs": [
    {
     "data": {
      "text/html": [
       "<div>\n",
       "<style scoped>\n",
       "    .dataframe tbody tr th:only-of-type {\n",
       "        vertical-align: middle;\n",
       "    }\n",
       "\n",
       "    .dataframe tbody tr th {\n",
       "        vertical-align: top;\n",
       "    }\n",
       "\n",
       "    .dataframe thead th {\n",
       "        text-align: right;\n",
       "    }\n",
       "</style>\n",
       "<table border=\"1\" class=\"dataframe\">\n",
       "  <thead>\n",
       "    <tr style=\"text-align: right;\">\n",
       "      <th></th>\n",
       "      <th>ranking</th>\n",
       "      <th>state</th>\n",
       "      <th>zip</th>\n",
       "      <th>ivy</th>\n",
       "      <th>institution_type</th>\n",
       "      <th>decision_type</th>\n",
       "      <th>days_after_first</th>\n",
       "      <th>state_fips</th>\n",
       "      <th>STCOUNTYFP</th>\n",
       "      <th>county_fips</th>\n",
       "      <th>county_fips_str</th>\n",
       "      <th>median_income</th>\n",
       "      <th>total_population</th>\n",
       "    </tr>\n",
       "  </thead>\n",
       "  <tbody>\n",
       "    <tr>\n",
       "      <th>0</th>\n",
       "      <td>0</td>\n",
       "      <td>NJ</td>\n",
       "      <td>8544</td>\n",
       "      <td>True</td>\n",
       "      <td>Private</td>\n",
       "      <td>online</td>\n",
       "      <td>8.0</td>\n",
       "      <td>34</td>\n",
       "      <td>34021</td>\n",
       "      <td>21</td>\n",
       "      <td>021</td>\n",
       "      <td>37223.0</td>\n",
       "      <td>368085.0</td>\n",
       "    </tr>\n",
       "    <tr>\n",
       "      <th>1</th>\n",
       "      <td>0</td>\n",
       "      <td>NJ</td>\n",
       "      <td>8544</td>\n",
       "      <td>True</td>\n",
       "      <td>Private</td>\n",
       "      <td>vaccine</td>\n",
       "      <td>14.0</td>\n",
       "      <td>34</td>\n",
       "      <td>34021</td>\n",
       "      <td>21</td>\n",
       "      <td>021</td>\n",
       "      <td>37223.0</td>\n",
       "      <td>368085.0</td>\n",
       "    </tr>\n",
       "    <tr>\n",
       "      <th>2</th>\n",
       "      <td>0</td>\n",
       "      <td>NY</td>\n",
       "      <td>10027</td>\n",
       "      <td>True</td>\n",
       "      <td>Private</td>\n",
       "      <td>online</td>\n",
       "      <td>6.0</td>\n",
       "      <td>36</td>\n",
       "      <td>36061</td>\n",
       "      <td>61</td>\n",
       "      <td>061</td>\n",
       "      <td>52409.0</td>\n",
       "      <td>1629153.0</td>\n",
       "    </tr>\n",
       "    <tr>\n",
       "      <th>3</th>\n",
       "      <td>0</td>\n",
       "      <td>NY</td>\n",
       "      <td>10027</td>\n",
       "      <td>True</td>\n",
       "      <td>Private</td>\n",
       "      <td>vaccine</td>\n",
       "      <td>13.5</td>\n",
       "      <td>36</td>\n",
       "      <td>36061</td>\n",
       "      <td>61</td>\n",
       "      <td>061</td>\n",
       "      <td>52409.0</td>\n",
       "      <td>1629153.0</td>\n",
       "    </tr>\n",
       "    <tr>\n",
       "      <th>4</th>\n",
       "      <td>2</td>\n",
       "      <td>NY</td>\n",
       "      <td>10012</td>\n",
       "      <td>False</td>\n",
       "      <td>Private</td>\n",
       "      <td>online</td>\n",
       "      <td>23.5</td>\n",
       "      <td>36</td>\n",
       "      <td>36061</td>\n",
       "      <td>61</td>\n",
       "      <td>061</td>\n",
       "      <td>52409.0</td>\n",
       "      <td>1629153.0</td>\n",
       "    </tr>\n",
       "  </tbody>\n",
       "</table>\n",
       "</div>"
      ],
      "text/plain": [
       "   ranking state    zip    ivy institution_type decision_type  \\\n",
       "0        0    NJ   8544   True          Private        online   \n",
       "1        0    NJ   8544   True          Private       vaccine   \n",
       "2        0    NY  10027   True          Private        online   \n",
       "3        0    NY  10027   True          Private       vaccine   \n",
       "4        2    NY  10012  False          Private        online   \n",
       "\n",
       "   days_after_first state_fips  STCOUNTYFP  county_fips county_fips_str  \\\n",
       "0               8.0         34       34021           21             021   \n",
       "1              14.0         34       34021           21             021   \n",
       "2               6.0         36       36061           61             061   \n",
       "3              13.5         36       36061           61             061   \n",
       "4              23.5         36       36061           61             061   \n",
       "\n",
       "   median_income  total_population  \n",
       "0        37223.0          368085.0  \n",
       "1        37223.0          368085.0  \n",
       "2        52409.0         1629153.0  \n",
       "3        52409.0         1629153.0  \n",
       "4        52409.0         1629153.0  "
      ]
     },
     "execution_count": 625,
     "metadata": {},
     "output_type": "execute_result"
    }
   ],
   "source": [
    "covid_dates_cleaned = (covid_dates_cleaned.merge(census_vars_counties, \n",
    "                                                 left_on=['state_fips', 'county_fips_str'], \n",
    "                                                 right_on=['state', 'county'], \n",
    "                                                 suffixes=('', '_new'))\n",
    "                       .drop(columns=['state_new', 'county']))\n",
    "\n",
    "covid_dates_cleaned.head()"
   ]
  },
  {
   "cell_type": "markdown",
   "metadata": {},
   "source": [
    "### County-Level COVID Data\n",
    "County data is easier to retrieve and more consistent with the rest of our analysis, so I will keep using it instead of zip codes. I will use the [CovidActNow API](https://covidactnow.org/data-api) to get time series data by county. I will then merge the data using the 5-digit county fips."
   ]
  },
  {
   "cell_type": "code",
   "execution_count": 876,
   "metadata": {},
   "outputs": [],
   "source": [
    "# import requests\n",
    "# api_key_covidnow = os.getenv('api_key_covidnow')\n",
    "# url = f'https://api.covidactnow.org/v2/counties.timeseries.json?apiKey={api_key_covidnow}'\n",
    "# r = requests.get(url)\n",
    "# covid_county_basic = r.json()"
   ]
  },
  {
   "cell_type": "code",
   "execution_count": 884,
   "metadata": {},
   "outputs": [],
   "source": [
    "# import json\n",
    "# with open('covid_county.json', 'w', encoding='utf-8') as f:\n",
    "#     json.dump(covid_county_basic, f, ensure_ascii=False)"
   ]
  },
  {
   "cell_type": "markdown",
   "metadata": {},
   "source": [
    "This CSV seems to be too large for Pandas to handle, so I'll use Dask (parallel computing library that extends Pandas and other Python libraries).\n",
    "\n",
    "Note that I needed to restart my kernel for this to work--and I ran it first, but it worked. The operations are just taking a long time.\n",
    "\n",
    "I may not need Dask here; perhaps I can just use SQL, as I need to aggregate the dates anyway into some constant measure per university."
   ]
  },
  {
   "cell_type": "code",
   "execution_count": 1,
   "metadata": {},
   "outputs": [],
   "source": [
    "import dask.dataframe as dd\n",
    "covid_county = dd.read_json('covid_county.json')"
   ]
  },
  {
   "cell_type": "code",
   "execution_count": null,
   "metadata": {},
   "outputs": [],
   "source": [
    "covid_county.head(1)"
   ]
  },
  {
   "cell_type": "code",
   "execution_count": null,
   "metadata": {},
   "outputs": [],
   "source": [
    "covid_county"
   ]
  },
  {
   "cell_type": "code",
   "execution_count": null,
   "metadata": {},
   "outputs": [],
   "source": [
    "covid_dates_cleaned"
   ]
  },
  {
   "cell_type": "markdown",
   "metadata": {},
   "source": [
    "### Political Leaning\n",
    "There is no simple way to gauge political leanings, so I will use composition of state legislature, as well as the county presidential election returns from 2020 as a proxy. A college town may often lean left, but the state legislature represents overall political sentiment and has a direct impact on COVID guidelines, so I think it'll be useful as well and not redundant.\n",
    "\n",
    "I will use the data from [the ncsl](https://www.ncsl.org/Portals/1/Documents/Elections/Legis_Control_2020_April%201.pdf) for who controlled the state legislature in 2020, filled in as Rep for Nebraska after a Google and Dem for DC as it votes heavily Democratic. Hardcoded because it's only 50 samples and pretty basic."
   ]
  },
  {
   "cell_type": "code",
   "execution_count": 116,
   "metadata": {},
   "outputs": [],
   "source": [
    "political_control_state = {'DC': 'Dem', 'AL': 'Rep', 'AK': 'Rep', 'AZ': 'Rep', 'AR': 'Rep', 'CA': 'Dem', 'CO': 'Dem', 'CT': 'Dem', 'DE': 'Dem', 'FL': 'Rep', 'GA': 'Rep', 'HI': 'Dem', 'ID': 'Rep', 'IL': 'Dem', 'IN': 'Rep', 'IA': 'Rep', 'KS': 'Div', 'KY': 'Div', 'LA': 'Div', 'ME': 'Dem', 'MD': 'Div', 'MA': 'Div', 'MI': 'Div', 'MN': 'Div', 'MS': 'Rep', 'MO': 'Rep', 'MT': 'Div', 'NE': 'Rep', 'NV': 'Dem', 'NH': 'Div', 'NJ': 'Dem', 'NM': 'Dem', 'NY': 'Dem', 'NC': 'Div', 'ND': 'Rep', 'OH': 'Rep', 'OK': 'Rep', 'OR': 'Dem', 'PA': 'Div', 'RI': 'Dem', 'SC': 'Rep', 'SD': 'Rep', 'TN': 'Rep', 'TX': 'Rep', 'UT': 'Rep', 'VT': 'Div', 'VA': 'Dem', 'WA': 'Dem', 'WV': 'Rep', 'WI': 'Div', 'WY': 'Rep'}"
   ]
  },
  {
   "cell_type": "code",
   "execution_count": 319,
   "metadata": {},
   "outputs": [
    {
     "data": {
      "text/html": [
       "<div>\n",
       "<style scoped>\n",
       "    .dataframe tbody tr th:only-of-type {\n",
       "        vertical-align: middle;\n",
       "    }\n",
       "\n",
       "    .dataframe tbody tr th {\n",
       "        vertical-align: top;\n",
       "    }\n",
       "\n",
       "    .dataframe thead th {\n",
       "        text-align: right;\n",
       "    }\n",
       "</style>\n",
       "<table border=\"1\" class=\"dataframe\">\n",
       "  <thead>\n",
       "    <tr style=\"text-align: right;\">\n",
       "      <th></th>\n",
       "      <th>ranking</th>\n",
       "      <th>state</th>\n",
       "      <th>zip</th>\n",
       "      <th>ivy</th>\n",
       "      <th>institution_type</th>\n",
       "      <th>decision_type</th>\n",
       "      <th>days_after_first</th>\n",
       "      <th>political_control_state</th>\n",
       "    </tr>\n",
       "  </thead>\n",
       "  <tbody>\n",
       "    <tr>\n",
       "      <th>0</th>\n",
       "      <td>0</td>\n",
       "      <td>NJ</td>\n",
       "      <td>8544</td>\n",
       "      <td>True</td>\n",
       "      <td>Private</td>\n",
       "      <td>online</td>\n",
       "      <td>8.0</td>\n",
       "      <td>Dem</td>\n",
       "    </tr>\n",
       "    <tr>\n",
       "      <th>1</th>\n",
       "      <td>0</td>\n",
       "      <td>NY</td>\n",
       "      <td>10027</td>\n",
       "      <td>True</td>\n",
       "      <td>Private</td>\n",
       "      <td>online</td>\n",
       "      <td>6.0</td>\n",
       "      <td>Dem</td>\n",
       "    </tr>\n",
       "    <tr>\n",
       "      <th>2</th>\n",
       "      <td>0</td>\n",
       "      <td>MA</td>\n",
       "      <td>2138</td>\n",
       "      <td>True</td>\n",
       "      <td>Private</td>\n",
       "      <td>online</td>\n",
       "      <td>4.0</td>\n",
       "      <td>Div</td>\n",
       "    </tr>\n",
       "    <tr>\n",
       "      <th>3</th>\n",
       "      <td>0</td>\n",
       "      <td>MA</td>\n",
       "      <td>2139</td>\n",
       "      <td>False</td>\n",
       "      <td>Private</td>\n",
       "      <td>online</td>\n",
       "      <td>4.0</td>\n",
       "      <td>Div</td>\n",
       "    </tr>\n",
       "    <tr>\n",
       "      <th>4</th>\n",
       "      <td>0</td>\n",
       "      <td>CT</td>\n",
       "      <td>6520</td>\n",
       "      <td>True</td>\n",
       "      <td>Private</td>\n",
       "      <td>online</td>\n",
       "      <td>5.0</td>\n",
       "      <td>Dem</td>\n",
       "    </tr>\n",
       "  </tbody>\n",
       "</table>\n",
       "</div>"
      ],
      "text/plain": [
       "   ranking state    zip    ivy institution_type decision_type  \\\n",
       "0        0    NJ   8544   True          Private        online   \n",
       "1        0    NY  10027   True          Private        online   \n",
       "2        0    MA   2138   True          Private        online   \n",
       "3        0    MA   2139  False          Private        online   \n",
       "4        0    CT   6520   True          Private        online   \n",
       "\n",
       "   days_after_first political_control_state  \n",
       "0               8.0                     Dem  \n",
       "1               6.0                     Dem  \n",
       "2               4.0                     Div  \n",
       "3               4.0                     Div  \n",
       "4               5.0                     Dem  "
      ]
     },
     "execution_count": 319,
     "metadata": {},
     "output_type": "execute_result"
    }
   ],
   "source": [
    "covid_dates_cleaned['political_control_state'] = covid_dates_cleaned['state'].map(political_control_state)\n",
    "covid_dates_cleaned.head()"
   ]
  },
  {
   "cell_type": "markdown",
   "metadata": {},
   "source": [
    "For the local data, I'll use [County Presidential Election Returns 2000-2020](https://dataverse.harvard.edu/dataset.xhtml?persistentId=doi:10.7910/DVN/VOQCHQ) from the MIT Election Data and Science Lab."
   ]
  },
  {
   "cell_type": "code",
   "execution_count": 781,
   "metadata": {},
   "outputs": [
    {
     "data": {
      "text/html": [
       "<div>\n",
       "<style scoped>\n",
       "    .dataframe tbody tr th:only-of-type {\n",
       "        vertical-align: middle;\n",
       "    }\n",
       "\n",
       "    .dataframe tbody tr th {\n",
       "        vertical-align: top;\n",
       "    }\n",
       "\n",
       "    .dataframe thead th {\n",
       "        text-align: right;\n",
       "    }\n",
       "</style>\n",
       "<table border=\"1\" class=\"dataframe\">\n",
       "  <thead>\n",
       "    <tr style=\"text-align: right;\">\n",
       "      <th></th>\n",
       "      <th>year</th>\n",
       "      <th>state</th>\n",
       "      <th>state_po</th>\n",
       "      <th>county_name</th>\n",
       "      <th>county_fips</th>\n",
       "      <th>office</th>\n",
       "      <th>candidate</th>\n",
       "      <th>party</th>\n",
       "      <th>candidatevotes</th>\n",
       "      <th>totalvotes</th>\n",
       "      <th>version</th>\n",
       "      <th>mode</th>\n",
       "    </tr>\n",
       "  </thead>\n",
       "  <tbody>\n",
       "    <tr>\n",
       "      <th>0</th>\n",
       "      <td>2000</td>\n",
       "      <td>ALABAMA</td>\n",
       "      <td>AL</td>\n",
       "      <td>AUTAUGA</td>\n",
       "      <td>1001.0</td>\n",
       "      <td>US PRESIDENT</td>\n",
       "      <td>AL GORE</td>\n",
       "      <td>DEMOCRAT</td>\n",
       "      <td>4942</td>\n",
       "      <td>17208</td>\n",
       "      <td>20220315</td>\n",
       "      <td>TOTAL</td>\n",
       "    </tr>\n",
       "    <tr>\n",
       "      <th>1</th>\n",
       "      <td>2000</td>\n",
       "      <td>ALABAMA</td>\n",
       "      <td>AL</td>\n",
       "      <td>AUTAUGA</td>\n",
       "      <td>1001.0</td>\n",
       "      <td>US PRESIDENT</td>\n",
       "      <td>GEORGE W. BUSH</td>\n",
       "      <td>REPUBLICAN</td>\n",
       "      <td>11993</td>\n",
       "      <td>17208</td>\n",
       "      <td>20220315</td>\n",
       "      <td>TOTAL</td>\n",
       "    </tr>\n",
       "    <tr>\n",
       "      <th>2</th>\n",
       "      <td>2000</td>\n",
       "      <td>ALABAMA</td>\n",
       "      <td>AL</td>\n",
       "      <td>AUTAUGA</td>\n",
       "      <td>1001.0</td>\n",
       "      <td>US PRESIDENT</td>\n",
       "      <td>RALPH NADER</td>\n",
       "      <td>GREEN</td>\n",
       "      <td>160</td>\n",
       "      <td>17208</td>\n",
       "      <td>20220315</td>\n",
       "      <td>TOTAL</td>\n",
       "    </tr>\n",
       "    <tr>\n",
       "      <th>3</th>\n",
       "      <td>2000</td>\n",
       "      <td>ALABAMA</td>\n",
       "      <td>AL</td>\n",
       "      <td>AUTAUGA</td>\n",
       "      <td>1001.0</td>\n",
       "      <td>US PRESIDENT</td>\n",
       "      <td>OTHER</td>\n",
       "      <td>OTHER</td>\n",
       "      <td>113</td>\n",
       "      <td>17208</td>\n",
       "      <td>20220315</td>\n",
       "      <td>TOTAL</td>\n",
       "    </tr>\n",
       "    <tr>\n",
       "      <th>4</th>\n",
       "      <td>2000</td>\n",
       "      <td>ALABAMA</td>\n",
       "      <td>AL</td>\n",
       "      <td>BALDWIN</td>\n",
       "      <td>1003.0</td>\n",
       "      <td>US PRESIDENT</td>\n",
       "      <td>AL GORE</td>\n",
       "      <td>DEMOCRAT</td>\n",
       "      <td>13997</td>\n",
       "      <td>56480</td>\n",
       "      <td>20220315</td>\n",
       "      <td>TOTAL</td>\n",
       "    </tr>\n",
       "  </tbody>\n",
       "</table>\n",
       "</div>"
      ],
      "text/plain": [
       "   year    state state_po county_name  county_fips        office  \\\n",
       "0  2000  ALABAMA       AL     AUTAUGA       1001.0  US PRESIDENT   \n",
       "1  2000  ALABAMA       AL     AUTAUGA       1001.0  US PRESIDENT   \n",
       "2  2000  ALABAMA       AL     AUTAUGA       1001.0  US PRESIDENT   \n",
       "3  2000  ALABAMA       AL     AUTAUGA       1001.0  US PRESIDENT   \n",
       "4  2000  ALABAMA       AL     BALDWIN       1003.0  US PRESIDENT   \n",
       "\n",
       "        candidate       party  candidatevotes  totalvotes   version   mode  \n",
       "0         AL GORE    DEMOCRAT            4942       17208  20220315  TOTAL  \n",
       "1  GEORGE W. BUSH  REPUBLICAN           11993       17208  20220315  TOTAL  \n",
       "2     RALPH NADER       GREEN             160       17208  20220315  TOTAL  \n",
       "3           OTHER       OTHER             113       17208  20220315  TOTAL  \n",
       "4         AL GORE    DEMOCRAT           13997       56480  20220315  TOTAL  "
      ]
     },
     "execution_count": 781,
     "metadata": {},
     "output_type": "execute_result"
    }
   ],
   "source": [
    "county_pres = pd.read_csv('political-data/countypres_2000-2020.csv')\n",
    "county_pres.head()"
   ]
  },
  {
   "cell_type": "markdown",
   "metadata": {},
   "source": [
    "Note that there's not data for every state in 2020. So, I'll use 2016--it should be fairly similar. I don't expect many counties to have shifted too much. However, when the data becomes available, I will use all 2020."
   ]
  },
  {
   "cell_type": "code",
   "execution_count": 782,
   "metadata": {},
   "outputs": [
    {
     "data": {
      "text/html": [
       "<div>\n",
       "<style scoped>\n",
       "    .dataframe tbody tr th:only-of-type {\n",
       "        vertical-align: middle;\n",
       "    }\n",
       "\n",
       "    .dataframe tbody tr th {\n",
       "        vertical-align: top;\n",
       "    }\n",
       "\n",
       "    .dataframe thead th {\n",
       "        text-align: right;\n",
       "    }\n",
       "</style>\n",
       "<table border=\"1\" class=\"dataframe\">\n",
       "  <thead>\n",
       "    <tr style=\"text-align: right;\">\n",
       "      <th></th>\n",
       "      <th>year</th>\n",
       "      <th>state</th>\n",
       "      <th>state_po</th>\n",
       "      <th>county_name</th>\n",
       "      <th>county_fips</th>\n",
       "      <th>office</th>\n",
       "      <th>candidate</th>\n",
       "      <th>party</th>\n",
       "      <th>candidatevotes</th>\n",
       "      <th>totalvotes</th>\n",
       "      <th>version</th>\n",
       "      <th>mode</th>\n",
       "    </tr>\n",
       "  </thead>\n",
       "  <tbody>\n",
       "  </tbody>\n",
       "</table>\n",
       "</div>"
      ],
      "text/plain": [
       "Empty DataFrame\n",
       "Columns: [year, state, state_po, county_name, county_fips, office, candidate, party, candidatevotes, totalvotes, version, mode]\n",
       "Index: []"
      ]
     },
     "execution_count": 782,
     "metadata": {},
     "output_type": "execute_result"
    }
   ],
   "source": [
    "county_pres.query(\"state_po == 'NC' and mode == 'TOTAL' and year == 2020\")"
   ]
  },
  {
   "cell_type": "markdown",
   "metadata": {},
   "source": [
    "Restrict to 2016"
   ]
  },
  {
   "cell_type": "code",
   "execution_count": 783,
   "metadata": {},
   "outputs": [],
   "source": [
    "election_year = 2016\n",
    "county_pres = county_pres.query(\"year == @election_year\")"
   ]
  },
  {
   "cell_type": "markdown",
   "metadata": {},
   "source": [
    "Change county_fips to an int. \n",
    "\n",
    "Note there are 9 counties without a fips. We'll just drop those. If it becomes a problem, I'll revisit this."
   ]
  },
  {
   "cell_type": "code",
   "execution_count": 784,
   "metadata": {},
   "outputs": [
    {
     "data": {
      "text/plain": [
       "9"
      ]
     },
     "execution_count": 784,
     "metadata": {},
     "output_type": "execute_result"
    }
   ],
   "source": [
    "county_pres['county_fips'].isna().sum()"
   ]
  },
  {
   "cell_type": "code",
   "execution_count": 785,
   "metadata": {},
   "outputs": [],
   "source": [
    "county_pres = county_pres.dropna(subset=['county_fips'])\n",
    "county_pres['county_fips'] = county_pres['county_fips'].astype(int, copy=False)"
   ]
  },
  {
   "cell_type": "code",
   "execution_count": 786,
   "metadata": {},
   "outputs": [
    {
     "data": {
      "text/html": [
       "<div>\n",
       "<style scoped>\n",
       "    .dataframe tbody tr th:only-of-type {\n",
       "        vertical-align: middle;\n",
       "    }\n",
       "\n",
       "    .dataframe tbody tr th {\n",
       "        vertical-align: top;\n",
       "    }\n",
       "\n",
       "    .dataframe thead th {\n",
       "        text-align: right;\n",
       "    }\n",
       "</style>\n",
       "<table border=\"1\" class=\"dataframe\">\n",
       "  <thead>\n",
       "    <tr style=\"text-align: right;\">\n",
       "      <th></th>\n",
       "      <th>year</th>\n",
       "      <th>state</th>\n",
       "      <th>state_po</th>\n",
       "      <th>county_name</th>\n",
       "      <th>county_fips</th>\n",
       "      <th>office</th>\n",
       "      <th>candidate</th>\n",
       "      <th>party</th>\n",
       "      <th>candidatevotes</th>\n",
       "      <th>totalvotes</th>\n",
       "      <th>version</th>\n",
       "      <th>mode</th>\n",
       "    </tr>\n",
       "  </thead>\n",
       "  <tbody>\n",
       "    <tr>\n",
       "      <th>40517</th>\n",
       "      <td>2016</td>\n",
       "      <td>ALABAMA</td>\n",
       "      <td>AL</td>\n",
       "      <td>AUTAUGA</td>\n",
       "      <td>1001</td>\n",
       "      <td>US PRESIDENT</td>\n",
       "      <td>HILLARY CLINTON</td>\n",
       "      <td>DEMOCRAT</td>\n",
       "      <td>5936</td>\n",
       "      <td>24973</td>\n",
       "      <td>20220315</td>\n",
       "      <td>TOTAL</td>\n",
       "    </tr>\n",
       "    <tr>\n",
       "      <th>40518</th>\n",
       "      <td>2016</td>\n",
       "      <td>ALABAMA</td>\n",
       "      <td>AL</td>\n",
       "      <td>AUTAUGA</td>\n",
       "      <td>1001</td>\n",
       "      <td>US PRESIDENT</td>\n",
       "      <td>DONALD TRUMP</td>\n",
       "      <td>REPUBLICAN</td>\n",
       "      <td>18172</td>\n",
       "      <td>24973</td>\n",
       "      <td>20220315</td>\n",
       "      <td>TOTAL</td>\n",
       "    </tr>\n",
       "  </tbody>\n",
       "</table>\n",
       "</div>"
      ],
      "text/plain": [
       "       year    state state_po county_name  county_fips        office  \\\n",
       "40517  2016  ALABAMA       AL     AUTAUGA         1001  US PRESIDENT   \n",
       "40518  2016  ALABAMA       AL     AUTAUGA         1001  US PRESIDENT   \n",
       "\n",
       "             candidate       party  candidatevotes  totalvotes   version  \\\n",
       "40517  HILLARY CLINTON    DEMOCRAT            5936       24973  20220315   \n",
       "40518     DONALD TRUMP  REPUBLICAN           18172       24973  20220315   \n",
       "\n",
       "        mode  \n",
       "40517  TOTAL  \n",
       "40518  TOTAL  "
      ]
     },
     "execution_count": 786,
     "metadata": {},
     "output_type": "execute_result"
    }
   ],
   "source": [
    "county_pres.head(2)"
   ]
  },
  {
   "cell_type": "markdown",
   "metadata": {},
   "source": [
    "Now find percent vote for each party by county for total election results."
   ]
  },
  {
   "cell_type": "code",
   "execution_count": 787,
   "metadata": {},
   "outputs": [
    {
     "data": {
      "text/plain": [
       "TOTAL    9465\n",
       "Name: mode, dtype: int64"
      ]
     },
     "execution_count": 787,
     "metadata": {},
     "output_type": "execute_result"
    }
   ],
   "source": [
    "county_pres['mode'].value_counts()"
   ]
  },
  {
   "cell_type": "code",
   "execution_count": 788,
   "metadata": {},
   "outputs": [],
   "source": [
    "county_pres['percentvote'] = county_pres['candidatevotes']/county_pres['totalvotes']"
   ]
  },
  {
   "cell_type": "markdown",
   "metadata": {},
   "source": [
    "Label who won by county. To see how Democratic or Republican a county is, either convert to a discrete variable or leave it continuous. I'll do the latter, but note that 20% vs 30% may not be that different, so a categorical variable may better capture this\n",
    "\n",
    "Before doing this, make sure data makes sense for every county (i.e., both Democrats and Republicans got votes)."
   ]
  },
  {
   "cell_type": "code",
   "execution_count": 789,
   "metadata": {},
   "outputs": [
    {
     "data": {
      "text/html": [
       "<div>\n",
       "<style scoped>\n",
       "    .dataframe tbody tr th:only-of-type {\n",
       "        vertical-align: middle;\n",
       "    }\n",
       "\n",
       "    .dataframe tbody tr th {\n",
       "        vertical-align: top;\n",
       "    }\n",
       "\n",
       "    .dataframe thead th {\n",
       "        text-align: right;\n",
       "    }\n",
       "</style>\n",
       "<table border=\"1\" class=\"dataframe\">\n",
       "  <thead>\n",
       "    <tr style=\"text-align: right;\">\n",
       "      <th></th>\n",
       "      <th>year</th>\n",
       "      <th>state</th>\n",
       "      <th>state_po</th>\n",
       "      <th>county_name</th>\n",
       "      <th>county_fips</th>\n",
       "      <th>office</th>\n",
       "      <th>candidate</th>\n",
       "      <th>party</th>\n",
       "      <th>candidatevotes</th>\n",
       "      <th>totalvotes</th>\n",
       "      <th>version</th>\n",
       "      <th>mode</th>\n",
       "      <th>percentvote</th>\n",
       "    </tr>\n",
       "  </thead>\n",
       "  <tbody>\n",
       "  </tbody>\n",
       "</table>\n",
       "</div>"
      ],
      "text/plain": [
       "Empty DataFrame\n",
       "Columns: [year, state, state_po, county_name, county_fips, office, candidate, party, candidatevotes, totalvotes, version, mode, percentvote]\n",
       "Index: []"
      ]
     },
     "execution_count": 789,
     "metadata": {},
     "output_type": "execute_result"
    }
   ],
   "source": [
    "county_pres.query(\"(party == 'REPUBLICAN' or party == 'DEMOCRAT') and percentvote == 0 and mode == 'TOTAL'\")"
   ]
  },
  {
   "cell_type": "markdown",
   "metadata": {},
   "source": [
    "Set new variable as difference in percent vote between votes for Democrats and Republicans (defined as percent vote Democrat - percent vote Republican).\n",
    "\n",
    "Want to create a new df with a column for Democrat percent vote and a column for Republican percent vote so I can easily subtract."
   ]
  },
  {
   "cell_type": "code",
   "execution_count": 790,
   "metadata": {},
   "outputs": [],
   "source": [
    "county_pres = county_pres.query(\"(party == 'REPUBLICAN' or party == 'DEMOCRAT') and mode == 'TOTAL'\")"
   ]
  },
  {
   "cell_type": "code",
   "execution_count": 791,
   "metadata": {},
   "outputs": [],
   "source": [
    "county_pres_percents = (county_pres.query(\"party == 'DEMOCRAT'\")[['county_fips', 'percentvote']]\n",
    "                        .merge(county_pres.query(\"party == 'REPUBLICAN'\")[['county_fips', 'percentvote']], \n",
    "                               on='county_fips', suffixes=('_D', '_R')))"
   ]
  },
  {
   "cell_type": "code",
   "execution_count": 792,
   "metadata": {},
   "outputs": [
    {
     "data": {
      "text/html": [
       "<div>\n",
       "<style scoped>\n",
       "    .dataframe tbody tr th:only-of-type {\n",
       "        vertical-align: middle;\n",
       "    }\n",
       "\n",
       "    .dataframe tbody tr th {\n",
       "        vertical-align: top;\n",
       "    }\n",
       "\n",
       "    .dataframe thead th {\n",
       "        text-align: right;\n",
       "    }\n",
       "</style>\n",
       "<table border=\"1\" class=\"dataframe\">\n",
       "  <thead>\n",
       "    <tr style=\"text-align: right;\">\n",
       "      <th></th>\n",
       "      <th>county_fips</th>\n",
       "      <th>percentvote_D</th>\n",
       "      <th>percentvote_R</th>\n",
       "      <th>county_vote_diff</th>\n",
       "    </tr>\n",
       "  </thead>\n",
       "  <tbody>\n",
       "    <tr>\n",
       "      <th>0</th>\n",
       "      <td>1001</td>\n",
       "      <td>0.237697</td>\n",
       "      <td>0.727666</td>\n",
       "      <td>-0.489969</td>\n",
       "    </tr>\n",
       "    <tr>\n",
       "      <th>1</th>\n",
       "      <td>1003</td>\n",
       "      <td>0.193856</td>\n",
       "      <td>0.765457</td>\n",
       "      <td>-0.571601</td>\n",
       "    </tr>\n",
       "    <tr>\n",
       "      <th>2</th>\n",
       "      <td>1005</td>\n",
       "      <td>0.465278</td>\n",
       "      <td>0.520967</td>\n",
       "      <td>-0.055688</td>\n",
       "    </tr>\n",
       "    <tr>\n",
       "      <th>3</th>\n",
       "      <td>1007</td>\n",
       "      <td>0.212496</td>\n",
       "      <td>0.764032</td>\n",
       "      <td>-0.551536</td>\n",
       "    </tr>\n",
       "    <tr>\n",
       "      <th>4</th>\n",
       "      <td>1009</td>\n",
       "      <td>0.084258</td>\n",
       "      <td>0.893348</td>\n",
       "      <td>-0.809090</td>\n",
       "    </tr>\n",
       "  </tbody>\n",
       "</table>\n",
       "</div>"
      ],
      "text/plain": [
       "   county_fips  percentvote_D  percentvote_R  county_vote_diff\n",
       "0         1001       0.237697       0.727666         -0.489969\n",
       "1         1003       0.193856       0.765457         -0.571601\n",
       "2         1005       0.465278       0.520967         -0.055688\n",
       "3         1007       0.212496       0.764032         -0.551536\n",
       "4         1009       0.084258       0.893348         -0.809090"
      ]
     },
     "execution_count": 792,
     "metadata": {},
     "output_type": "execute_result"
    }
   ],
   "source": [
    "county_pres_percents['county_vote_diff'] = county_pres_percents['percentvote_D'] - county_pres_percents['percentvote_R']\n",
    "county_pres_percents.head()"
   ]
  },
  {
   "cell_type": "markdown",
   "metadata": {},
   "source": [
    "Merge with main df."
   ]
  },
  {
   "cell_type": "code",
   "execution_count": 793,
   "metadata": {},
   "outputs": [],
   "source": [
    "county_pres_percents['STCOUNTYFP'] = county_pres_percents['county_fips'].astype(str)"
   ]
  },
  {
   "cell_type": "code",
   "execution_count": 794,
   "metadata": {},
   "outputs": [],
   "source": [
    "covid_dates_cleaned['STCOUNTYFP'] = covid_dates_cleaned['STCOUNTYFP'].astype(str)"
   ]
  },
  {
   "cell_type": "code",
   "execution_count": 795,
   "metadata": {},
   "outputs": [
    {
     "data": {
      "text/html": [
       "<div>\n",
       "<style scoped>\n",
       "    .dataframe tbody tr th:only-of-type {\n",
       "        vertical-align: middle;\n",
       "    }\n",
       "\n",
       "    .dataframe tbody tr th {\n",
       "        vertical-align: top;\n",
       "    }\n",
       "\n",
       "    .dataframe thead th {\n",
       "        text-align: right;\n",
       "    }\n",
       "</style>\n",
       "<table border=\"1\" class=\"dataframe\">\n",
       "  <thead>\n",
       "    <tr style=\"text-align: right;\">\n",
       "      <th></th>\n",
       "      <th>ranking</th>\n",
       "      <th>state</th>\n",
       "      <th>zip</th>\n",
       "      <th>ivy</th>\n",
       "      <th>institution_type</th>\n",
       "      <th>decision_type</th>\n",
       "      <th>days_after_first</th>\n",
       "      <th>state_fips</th>\n",
       "      <th>STCOUNTYFP</th>\n",
       "      <th>county_fips</th>\n",
       "      <th>county_fips_str</th>\n",
       "      <th>median_income</th>\n",
       "      <th>total_population</th>\n",
       "      <th>county_vote_diff</th>\n",
       "    </tr>\n",
       "  </thead>\n",
       "  <tbody>\n",
       "  </tbody>\n",
       "</table>\n",
       "</div>"
      ],
      "text/plain": [
       "Empty DataFrame\n",
       "Columns: [ranking, state, zip, ivy, institution_type, decision_type, days_after_first, state_fips, STCOUNTYFP, county_fips, county_fips_str, median_income, total_population, county_vote_diff]\n",
       "Index: []"
      ]
     },
     "execution_count": 795,
     "metadata": {},
     "output_type": "execute_result"
    }
   ],
   "source": [
    "covid_dates_all = covid_dates_cleaned.merge(county_pres_percents[['STCOUNTYFP', 'county_vote_diff']], on='STCOUNTYFP', how='left')\n",
    "covid_dates_all[covid_dates_all['county_vote_diff'].isna()] # check na"
   ]
  },
  {
   "cell_type": "markdown",
   "metadata": {},
   "source": [
    "## Save"
   ]
  },
  {
   "cell_type": "code",
   "execution_count": null,
   "metadata": {},
   "outputs": [],
   "source": []
  }
 ],
 "metadata": {
  "kernelspec": {
   "display_name": "Python 3",
   "language": "python",
   "name": "python3"
  },
  "language_info": {
   "codemirror_mode": {
    "name": "ipython",
    "version": 3
   },
   "file_extension": ".py",
   "mimetype": "text/x-python",
   "name": "python",
   "nbconvert_exporter": "python",
   "pygments_lexer": "ipython3",
   "version": "3.8.5"
  }
 },
 "nbformat": 4,
 "nbformat_minor": 4
}
