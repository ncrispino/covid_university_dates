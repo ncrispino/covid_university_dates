{
 "cells": [
  {
   "cell_type": "markdown",
   "metadata": {},
   "source": [
    "## Goal\n",
    "Predict how long it takes for colleges to implement vaccine requirement."
   ]
  },
  {
   "cell_type": "code",
   "execution_count": 1,
   "metadata": {},
   "outputs": [],
   "source": [
    "import numpy as np\n",
    "import pandas as pd\n",
    "import matplotlib.pyplot as plt"
   ]
  },
  {
   "cell_type": "markdown",
   "metadata": {},
   "source": [
    "## Preprocessing and Feature Engineering\n",
    "Some was done in previous notebook, but most will be done here. I'm using the cleaned vaccine data from my 'Vaccine Mandates' notebook."
   ]
  },
  {
   "cell_type": "code",
   "execution_count": 74,
   "metadata": {},
   "outputs": [
    {
     "data": {
      "text/html": [
       "<div>\n",
       "<style scoped>\n",
       "    .dataframe tbody tr th:only-of-type {\n",
       "        vertical-align: middle;\n",
       "    }\n",
       "\n",
       "    .dataframe tbody tr th {\n",
       "        vertical-align: top;\n",
       "    }\n",
       "\n",
       "    .dataframe thead th {\n",
       "        text-align: right;\n",
       "    }\n",
       "</style>\n",
       "<table border=\"1\" class=\"dataframe\">\n",
       "  <thead>\n",
       "    <tr style=\"text-align: right;\">\n",
       "      <th></th>\n",
       "      <th>College</th>\n",
       "      <th>ranking</th>\n",
       "      <th>state</th>\n",
       "      <th>city</th>\n",
       "      <th>zip</th>\n",
       "      <th>announce_date</th>\n",
       "      <th>Type</th>\n",
       "      <th>State_x</th>\n",
       "      <th>all_employee_vacc</th>\n",
       "      <th>some_employee_vacc</th>\n",
       "      <th>...</th>\n",
       "      <th>median_income</th>\n",
       "      <th>total_population</th>\n",
       "      <th>avg_hhsize</th>\n",
       "      <th>avg_community_level</th>\n",
       "      <th>political_control_state</th>\n",
       "      <th>county_vote_diff</th>\n",
       "      <th>State_y</th>\n",
       "      <th>State Code</th>\n",
       "      <th>Region</th>\n",
       "      <th>Division</th>\n",
       "    </tr>\n",
       "  </thead>\n",
       "  <tbody>\n",
       "    <tr>\n",
       "      <th>0</th>\n",
       "      <td>Princeton University</td>\n",
       "      <td>0</td>\n",
       "      <td>NJ</td>\n",
       "      <td>Princeton</td>\n",
       "      <td>8544</td>\n",
       "      <td>19.0</td>\n",
       "      <td>Private</td>\n",
       "      <td>NJ</td>\n",
       "      <td>1</td>\n",
       "      <td>0</td>\n",
       "      <td>...</td>\n",
       "      <td>37223.0</td>\n",
       "      <td>368085.0</td>\n",
       "      <td>2.46</td>\n",
       "      <td>0.627660</td>\n",
       "      <td>Dem</td>\n",
       "      <td>0.374257</td>\n",
       "      <td>New Jersey</td>\n",
       "      <td>NJ</td>\n",
       "      <td>Northeast</td>\n",
       "      <td>Middle Atlantic</td>\n",
       "    </tr>\n",
       "    <tr>\n",
       "      <th>1</th>\n",
       "      <td>Columbia University</td>\n",
       "      <td>1</td>\n",
       "      <td>NY</td>\n",
       "      <td>New York</td>\n",
       "      <td>10027</td>\n",
       "      <td>18.0</td>\n",
       "      <td>Private</td>\n",
       "      <td>NY</td>\n",
       "      <td>1</td>\n",
       "      <td>0</td>\n",
       "      <td>...</td>\n",
       "      <td>52409.0</td>\n",
       "      <td>1629153.0</td>\n",
       "      <td>2.07</td>\n",
       "      <td>0.535047</td>\n",
       "      <td>Dem</td>\n",
       "      <td>0.768507</td>\n",
       "      <td>New York</td>\n",
       "      <td>NY</td>\n",
       "      <td>Northeast</td>\n",
       "      <td>Middle Atlantic</td>\n",
       "    </tr>\n",
       "    <tr>\n",
       "      <th>2</th>\n",
       "      <td>New York University</td>\n",
       "      <td>27</td>\n",
       "      <td>NY</td>\n",
       "      <td>New York</td>\n",
       "      <td>10012</td>\n",
       "      <td>22.0</td>\n",
       "      <td>Private</td>\n",
       "      <td>NY</td>\n",
       "      <td>1</td>\n",
       "      <td>0</td>\n",
       "      <td>...</td>\n",
       "      <td>52409.0</td>\n",
       "      <td>1629153.0</td>\n",
       "      <td>2.07</td>\n",
       "      <td>0.535047</td>\n",
       "      <td>Dem</td>\n",
       "      <td>0.768507</td>\n",
       "      <td>New York</td>\n",
       "      <td>NY</td>\n",
       "      <td>Northeast</td>\n",
       "      <td>Middle Atlantic</td>\n",
       "    </tr>\n",
       "    <tr>\n",
       "      <th>3</th>\n",
       "      <td>Fordham University</td>\n",
       "      <td>67</td>\n",
       "      <td>NY</td>\n",
       "      <td>New York</td>\n",
       "      <td>10023</td>\n",
       "      <td>15.0</td>\n",
       "      <td>Private</td>\n",
       "      <td>NY</td>\n",
       "      <td>1</td>\n",
       "      <td>0</td>\n",
       "      <td>...</td>\n",
       "      <td>52409.0</td>\n",
       "      <td>1629153.0</td>\n",
       "      <td>2.07</td>\n",
       "      <td>0.535047</td>\n",
       "      <td>Dem</td>\n",
       "      <td>0.768507</td>\n",
       "      <td>New York</td>\n",
       "      <td>NY</td>\n",
       "      <td>Northeast</td>\n",
       "      <td>Middle Atlantic</td>\n",
       "    </tr>\n",
       "    <tr>\n",
       "      <th>4</th>\n",
       "      <td>Yeshiva University</td>\n",
       "      <td>73</td>\n",
       "      <td>NY</td>\n",
       "      <td>New York</td>\n",
       "      <td>10033</td>\n",
       "      <td>33.0</td>\n",
       "      <td>Private</td>\n",
       "      <td>NY</td>\n",
       "      <td>0</td>\n",
       "      <td>0</td>\n",
       "      <td>...</td>\n",
       "      <td>52409.0</td>\n",
       "      <td>1629153.0</td>\n",
       "      <td>2.07</td>\n",
       "      <td>0.535047</td>\n",
       "      <td>Dem</td>\n",
       "      <td>0.768507</td>\n",
       "      <td>New York</td>\n",
       "      <td>NY</td>\n",
       "      <td>Northeast</td>\n",
       "      <td>Middle Atlantic</td>\n",
       "    </tr>\n",
       "  </tbody>\n",
       "</table>\n",
       "<p>5 rows × 28 columns</p>\n",
       "</div>"
      ],
      "text/plain": [
       "                College  ranking state       city    zip  announce_date  \\\n",
       "0  Princeton University        0    NJ  Princeton   8544           19.0   \n",
       "1   Columbia University        1    NY   New York  10027           18.0   \n",
       "2   New York University       27    NY   New York  10012           22.0   \n",
       "3    Fordham University       67    NY   New York  10023           15.0   \n",
       "4    Yeshiva University       73    NY   New York  10033           33.0   \n",
       "\n",
       "      Type State_x  all_employee_vacc  some_employee_vacc  ...  median_income  \\\n",
       "0  Private      NJ                  1                   0  ...        37223.0   \n",
       "1  Private      NY                  1                   0  ...        52409.0   \n",
       "2  Private      NY                  1                   0  ...        52409.0   \n",
       "3  Private      NY                  1                   0  ...        52409.0   \n",
       "4  Private      NY                  0                   0  ...        52409.0   \n",
       "\n",
       "   total_population  avg_hhsize avg_community_level  political_control_state  \\\n",
       "0          368085.0        2.46            0.627660                      Dem   \n",
       "1         1629153.0        2.07            0.535047                      Dem   \n",
       "2         1629153.0        2.07            0.535047                      Dem   \n",
       "3         1629153.0        2.07            0.535047                      Dem   \n",
       "4         1629153.0        2.07            0.535047                      Dem   \n",
       "\n",
       "   county_vote_diff     State_y  State Code     Region         Division  \n",
       "0          0.374257  New Jersey          NJ  Northeast  Middle Atlantic  \n",
       "1          0.768507    New York          NY  Northeast  Middle Atlantic  \n",
       "2          0.768507    New York          NY  Northeast  Middle Atlantic  \n",
       "3          0.768507    New York          NY  Northeast  Middle Atlantic  \n",
       "4          0.768507    New York          NY  Northeast  Middle Atlantic  \n",
       "\n",
       "[5 rows x 28 columns]"
      ]
     },
     "execution_count": 74,
     "metadata": {},
     "output_type": "execute_result"
    }
   ],
   "source": [
    "vacc_data = pd.read_csv('vacc_mandates_cleaned.csv')\n",
    "vacc_data.head()"
   ]
  },
  {
   "cell_type": "markdown",
   "metadata": {},
   "source": [
    "First, drop unnecessary columns (i.e., ones that won't be used as features in my model). Drop names, locations (as I extracted data from them) and ```state_pol```, as that was from the Chronicle data but I found different political data myself. Also dropping records of employee vaccination and boosters, as I'm trying to predict original student vaccination. I will consider ```all_students_vacc``` instead of ```res_students_vacc``` as it'll be less dependent on each college's dorm situations. Also drop ```Division``` as I don't have that much data, so using the more broad category of ```Region``` will probably be better."
   ]
  },
  {
   "cell_type": "code",
   "execution_count": 75,
   "metadata": {},
   "outputs": [],
   "source": [
    "vacc_data.drop(columns=['College', 'state', 'city', 'zip', 'State_x', 'state_fips', \n",
    "                        'STCOUNTYFP', 'county_fips', 'county_fips_str', 'state_pol', \n",
    "                        'State_y', 'State Code', 'Division',\n",
    "                        'all_employee_vacc', 'some_employee_vacc', 'res_students_vacc'], \n",
    "               inplace=True)"
   ]
  },
  {
   "cell_type": "code",
   "execution_count": 76,
   "metadata": {},
   "outputs": [
    {
     "data": {
      "text/html": [
       "<div>\n",
       "<style scoped>\n",
       "    .dataframe tbody tr th:only-of-type {\n",
       "        vertical-align: middle;\n",
       "    }\n",
       "\n",
       "    .dataframe tbody tr th {\n",
       "        vertical-align: top;\n",
       "    }\n",
       "\n",
       "    .dataframe thead th {\n",
       "        text-align: right;\n",
       "    }\n",
       "</style>\n",
       "<table border=\"1\" class=\"dataframe\">\n",
       "  <thead>\n",
       "    <tr style=\"text-align: right;\">\n",
       "      <th></th>\n",
       "      <th>ranking</th>\n",
       "      <th>announce_date</th>\n",
       "      <th>Type</th>\n",
       "      <th>all_students_vacc</th>\n",
       "      <th>booster</th>\n",
       "      <th>median_income</th>\n",
       "      <th>total_population</th>\n",
       "      <th>avg_hhsize</th>\n",
       "      <th>avg_community_level</th>\n",
       "      <th>political_control_state</th>\n",
       "      <th>county_vote_diff</th>\n",
       "      <th>Region</th>\n",
       "    </tr>\n",
       "  </thead>\n",
       "  <tbody>\n",
       "    <tr>\n",
       "      <th>0</th>\n",
       "      <td>0</td>\n",
       "      <td>19.0</td>\n",
       "      <td>Private</td>\n",
       "      <td>1</td>\n",
       "      <td>1</td>\n",
       "      <td>37223.0</td>\n",
       "      <td>368085.0</td>\n",
       "      <td>2.46</td>\n",
       "      <td>0.627660</td>\n",
       "      <td>Dem</td>\n",
       "      <td>0.374257</td>\n",
       "      <td>Northeast</td>\n",
       "    </tr>\n",
       "    <tr>\n",
       "      <th>1</th>\n",
       "      <td>1</td>\n",
       "      <td>18.0</td>\n",
       "      <td>Private</td>\n",
       "      <td>1</td>\n",
       "      <td>1</td>\n",
       "      <td>52409.0</td>\n",
       "      <td>1629153.0</td>\n",
       "      <td>2.07</td>\n",
       "      <td>0.535047</td>\n",
       "      <td>Dem</td>\n",
       "      <td>0.768507</td>\n",
       "      <td>Northeast</td>\n",
       "    </tr>\n",
       "    <tr>\n",
       "      <th>2</th>\n",
       "      <td>27</td>\n",
       "      <td>22.0</td>\n",
       "      <td>Private</td>\n",
       "      <td>1</td>\n",
       "      <td>1</td>\n",
       "      <td>52409.0</td>\n",
       "      <td>1629153.0</td>\n",
       "      <td>2.07</td>\n",
       "      <td>0.535047</td>\n",
       "      <td>Dem</td>\n",
       "      <td>0.768507</td>\n",
       "      <td>Northeast</td>\n",
       "    </tr>\n",
       "    <tr>\n",
       "      <th>3</th>\n",
       "      <td>67</td>\n",
       "      <td>15.0</td>\n",
       "      <td>Private</td>\n",
       "      <td>1</td>\n",
       "      <td>1</td>\n",
       "      <td>52409.0</td>\n",
       "      <td>1629153.0</td>\n",
       "      <td>2.07</td>\n",
       "      <td>0.535047</td>\n",
       "      <td>Dem</td>\n",
       "      <td>0.768507</td>\n",
       "      <td>Northeast</td>\n",
       "    </tr>\n",
       "    <tr>\n",
       "      <th>4</th>\n",
       "      <td>73</td>\n",
       "      <td>33.0</td>\n",
       "      <td>Private</td>\n",
       "      <td>1</td>\n",
       "      <td>0</td>\n",
       "      <td>52409.0</td>\n",
       "      <td>1629153.0</td>\n",
       "      <td>2.07</td>\n",
       "      <td>0.535047</td>\n",
       "      <td>Dem</td>\n",
       "      <td>0.768507</td>\n",
       "      <td>Northeast</td>\n",
       "    </tr>\n",
       "  </tbody>\n",
       "</table>\n",
       "</div>"
      ],
      "text/plain": [
       "   ranking  announce_date     Type  all_students_vacc  booster  median_income  \\\n",
       "0        0           19.0  Private                  1        1        37223.0   \n",
       "1        1           18.0  Private                  1        1        52409.0   \n",
       "2       27           22.0  Private                  1        1        52409.0   \n",
       "3       67           15.0  Private                  1        1        52409.0   \n",
       "4       73           33.0  Private                  1        0        52409.0   \n",
       "\n",
       "   total_population  avg_hhsize  avg_community_level political_control_state  \\\n",
       "0          368085.0        2.46             0.627660                     Dem   \n",
       "1         1629153.0        2.07             0.535047                     Dem   \n",
       "2         1629153.0        2.07             0.535047                     Dem   \n",
       "3         1629153.0        2.07             0.535047                     Dem   \n",
       "4         1629153.0        2.07             0.535047                     Dem   \n",
       "\n",
       "   county_vote_diff     Region  \n",
       "0          0.374257  Northeast  \n",
       "1          0.768507  Northeast  \n",
       "2          0.768507  Northeast  \n",
       "3          0.768507  Northeast  \n",
       "4          0.768507  Northeast  "
      ]
     },
     "execution_count": 76,
     "metadata": {},
     "output_type": "execute_result"
    }
   ],
   "source": [
    "vacc_data.head()"
   ]
  },
  {
   "cell_type": "markdown",
   "metadata": {},
   "source": [
    "Now, I need to figure out my target variable. Explore the two possibilities--categorical variable for vaccination status or continuous variable for days after first announcement."
   ]
  },
  {
   "cell_type": "code",
   "execution_count": 72,
   "metadata": {},
   "outputs": [
    {
     "data": {
      "text/plain": [
       "1    161\n",
       "0     14\n",
       "Name: all_students_vacc, dtype: int64"
      ]
     },
     "execution_count": 72,
     "metadata": {},
     "output_type": "execute_result"
    }
   ],
   "source": [
    "vacc_data['all_students_vacc'].value_counts()"
   ]
  },
  {
   "cell_type": "code",
   "execution_count": 78,
   "metadata": {},
   "outputs": [
    {
     "data": {
      "text/plain": [
       "all_students_vacc  booster\n",
       "1                  0          108\n",
       "                   1           53\n",
       "0                  0           14\n",
       "dtype: int64"
      ]
     },
     "execution_count": 78,
     "metadata": {},
     "output_type": "execute_result"
    }
   ],
   "source": [
    "vacc_data[['all_students_vacc', 'booster']].value_counts()"
   ]
  },
  {
   "cell_type": "code",
   "execution_count": 73,
   "metadata": {},
   "outputs": [
    {
     "data": {
      "text/plain": [
       "15"
      ]
     },
     "execution_count": 73,
     "metadata": {},
     "output_type": "execute_result"
    }
   ],
   "source": [
    "vacc_data['announce_date'].isna().sum()"
   ]
  },
  {
   "cell_type": "code",
   "execution_count": 82,
   "metadata": {},
   "outputs": [],
   "source": [
    "vacc_data.dropna(subset=['announce_date'], inplace=True)"
   ]
  },
  {
   "cell_type": "markdown",
   "metadata": {},
   "source": [
    "With only 14 colleges not requiring the vaccine, there's likely not enough data to train a good model. So, I can drop these and do a regression estimating how long it takes for a college to institute a vaccination requirement, under the assumption that they will make one. This won't be as useful, but can help gauge each college's decision times and urgency regarding their requirements.\n",
    "\n",
    "Note that in the future, I can also try to predict if a college that already had a vaccine requirement will require a booster."
   ]
  },
  {
   "cell_type": "code",
   "execution_count": 122,
   "metadata": {},
   "outputs": [],
   "source": [
    "target = vacc_data['announce_date'] # Note: is continuous\n",
    "features = vacc_data.drop(columns=['announce_date', 'all_students_vacc', 'booster'])"
   ]
  },
  {
   "cell_type": "markdown",
   "metadata": {},
   "source": [
    "Now make sure all the vars are the correct type."
   ]
  },
  {
   "cell_type": "code",
   "execution_count": 123,
   "metadata": {},
   "outputs": [
    {
     "data": {
      "text/plain": [
       "ranking                      int64\n",
       "announce_date              float64\n",
       "Type                        object\n",
       "all_students_vacc            int64\n",
       "booster                      int64\n",
       "median_income              float64\n",
       "total_population           float64\n",
       "avg_hhsize                 float64\n",
       "avg_community_level        float64\n",
       "political_control_state     object\n",
       "county_vote_diff           float64\n",
       "Region                      object\n",
       "dtype: object"
      ]
     },
     "execution_count": 123,
     "metadata": {},
     "output_type": "execute_result"
    }
   ],
   "source": [
    "vacc_data.dtypes"
   ]
  },
  {
   "cell_type": "code",
   "execution_count": 124,
   "metadata": {},
   "outputs": [
    {
     "data": {
      "text/plain": [
       "Index(['ranking', 'announce_date', 'Type', 'all_students_vacc', 'booster',\n",
       "       'median_income', 'total_population', 'avg_hhsize',\n",
       "       'avg_community_level', 'political_control_state', 'county_vote_diff',\n",
       "       'Region'],\n",
       "      dtype='object')"
      ]
     },
     "execution_count": 124,
     "metadata": {},
     "output_type": "execute_result"
    }
   ],
   "source": [
    "vacc_data.columns"
   ]
  },
  {
   "cell_type": "markdown",
   "metadata": {},
   "source": [
    "Next, use one-hot encoding for the categorical variables. Note that my preprocessing is copied/based on [this sklearn course](https://inria.github.io/scikit-learn-mooc/python_scripts/03_categorical_pipeline_column_transformer.html)."
   ]
  },
  {
   "cell_type": "code",
   "execution_count": 125,
   "metadata": {},
   "outputs": [],
   "source": [
    "from sklearn.preprocessing import OneHotEncoder, StandardScaler\n",
    "categorical_preprocessor = OneHotEncoder(handle_unknown='ignore')\n",
    "numerical_preprocessor = StandardScaler() # normalize data to make it easier for sklearn models to handle"
   ]
  },
  {
   "cell_type": "markdown",
   "metadata": {},
   "source": [
    "Testing on one column."
   ]
  },
  {
   "cell_type": "code",
   "execution_count": 126,
   "metadata": {},
   "outputs": [
    {
     "name": "stdout",
     "output_type": "stream",
     "text": [
      "[[1. 0.]\n",
      " [1. 0.]\n",
      " [1. 0.]\n",
      " [1. 0.]\n",
      " [1. 0.]]\n"
     ]
    }
   ],
   "source": [
    "type_encoded = categorical_preprocessor.fit_transform(vacc_data[['Type']])\n",
    "print(type_encoded.toarray()[:5])"
   ]
  },
  {
   "cell_type": "markdown",
   "metadata": {},
   "source": [
    "With a pipeline, apply to all categorical features. Also, standardize numerical features."
   ]
  },
  {
   "cell_type": "code",
   "execution_count": 135,
   "metadata": {},
   "outputs": [],
   "source": [
    "categorical_columns = ['Type', 'political_control_state', 'Region']\n",
    "numerical_columns = list(set(features.columns).difference(categorical_columns))"
   ]
  },
  {
   "cell_type": "code",
   "execution_count": 140,
   "metadata": {},
   "outputs": [],
   "source": [
    "from sklearn.compose import ColumnTransformer # splits the column, transforms each subset differently, then concatenates\n",
    "preprocessor = ColumnTransformer([('one-hot-encoder', categorical_preprocessor, categorical_columns),\n",
    "                                  ('standard_scaler', numerical_preprocessor, numerical_columns)])"
   ]
  },
  {
   "cell_type": "markdown",
   "metadata": {},
   "source": [
    "Now split into testing and training (which randomizes data)."
   ]
  },
  {
   "cell_type": "code",
   "execution_count": 141,
   "metadata": {},
   "outputs": [],
   "source": [
    "from sklearn.model_selection import train_test_split\n",
    "X_train, X_test, y_train, y_test = train_test_split(features, target, random_state=42)"
   ]
  },
  {
   "cell_type": "code",
   "execution_count": 147,
   "metadata": {},
   "outputs": [
    {
     "data": {
      "text/html": [
       "<div>\n",
       "<style scoped>\n",
       "    .dataframe tbody tr th:only-of-type {\n",
       "        vertical-align: middle;\n",
       "    }\n",
       "\n",
       "    .dataframe tbody tr th {\n",
       "        vertical-align: top;\n",
       "    }\n",
       "\n",
       "    .dataframe thead th {\n",
       "        text-align: right;\n",
       "    }\n",
       "</style>\n",
       "<table border=\"1\" class=\"dataframe\">\n",
       "  <thead>\n",
       "    <tr style=\"text-align: right;\">\n",
       "      <th></th>\n",
       "      <th>ranking</th>\n",
       "      <th>Type</th>\n",
       "      <th>median_income</th>\n",
       "      <th>total_population</th>\n",
       "      <th>avg_hhsize</th>\n",
       "      <th>avg_community_level</th>\n",
       "      <th>political_control_state</th>\n",
       "      <th>county_vote_diff</th>\n",
       "      <th>Region</th>\n",
       "    </tr>\n",
       "  </thead>\n",
       "  <tbody>\n",
       "    <tr>\n",
       "      <th>0</th>\n",
       "      <td>0</td>\n",
       "      <td>Private</td>\n",
       "      <td>37223.0</td>\n",
       "      <td>368085.0</td>\n",
       "      <td>2.46</td>\n",
       "      <td>0.627660</td>\n",
       "      <td>Dem</td>\n",
       "      <td>0.374257</td>\n",
       "      <td>Northeast</td>\n",
       "    </tr>\n",
       "    <tr>\n",
       "      <th>1</th>\n",
       "      <td>1</td>\n",
       "      <td>Private</td>\n",
       "      <td>52409.0</td>\n",
       "      <td>1629153.0</td>\n",
       "      <td>2.07</td>\n",
       "      <td>0.535047</td>\n",
       "      <td>Dem</td>\n",
       "      <td>0.768507</td>\n",
       "      <td>Northeast</td>\n",
       "    </tr>\n",
       "    <tr>\n",
       "      <th>2</th>\n",
       "      <td>27</td>\n",
       "      <td>Private</td>\n",
       "      <td>52409.0</td>\n",
       "      <td>1629153.0</td>\n",
       "      <td>2.07</td>\n",
       "      <td>0.535047</td>\n",
       "      <td>Dem</td>\n",
       "      <td>0.768507</td>\n",
       "      <td>Northeast</td>\n",
       "    </tr>\n",
       "    <tr>\n",
       "      <th>3</th>\n",
       "      <td>67</td>\n",
       "      <td>Private</td>\n",
       "      <td>52409.0</td>\n",
       "      <td>1629153.0</td>\n",
       "      <td>2.07</td>\n",
       "      <td>0.535047</td>\n",
       "      <td>Dem</td>\n",
       "      <td>0.768507</td>\n",
       "      <td>Northeast</td>\n",
       "    </tr>\n",
       "    <tr>\n",
       "      <th>4</th>\n",
       "      <td>73</td>\n",
       "      <td>Private</td>\n",
       "      <td>52409.0</td>\n",
       "      <td>1629153.0</td>\n",
       "      <td>2.07</td>\n",
       "      <td>0.535047</td>\n",
       "      <td>Dem</td>\n",
       "      <td>0.768507</td>\n",
       "      <td>Northeast</td>\n",
       "    </tr>\n",
       "    <tr>\n",
       "      <th>...</th>\n",
       "      <td>...</td>\n",
       "      <td>...</td>\n",
       "      <td>...</td>\n",
       "      <td>...</td>\n",
       "      <td>...</td>\n",
       "      <td>...</td>\n",
       "      <td>...</td>\n",
       "      <td>...</td>\n",
       "      <td>...</td>\n",
       "    </tr>\n",
       "    <tr>\n",
       "      <th>170</th>\n",
       "      <td>361</td>\n",
       "      <td>Private</td>\n",
       "      <td>27231.0</td>\n",
       "      <td>181014.0</td>\n",
       "      <td>2.11</td>\n",
       "      <td>0.632275</td>\n",
       "      <td>Rep</td>\n",
       "      <td>-0.205932</td>\n",
       "      <td>South</td>\n",
       "    </tr>\n",
       "    <tr>\n",
       "      <th>171</th>\n",
       "      <td>363</td>\n",
       "      <td>Public</td>\n",
       "      <td>31110.0</td>\n",
       "      <td>243692.0</td>\n",
       "      <td>2.43</td>\n",
       "      <td>0.482940</td>\n",
       "      <td>Div</td>\n",
       "      <td>-0.335871</td>\n",
       "      <td>South</td>\n",
       "    </tr>\n",
       "    <tr>\n",
       "      <th>172</th>\n",
       "      <td>369</td>\n",
       "      <td>Public</td>\n",
       "      <td>33377.0</td>\n",
       "      <td>315389.0</td>\n",
       "      <td>2.98</td>\n",
       "      <td>0.497409</td>\n",
       "      <td>Dem</td>\n",
       "      <td>-0.222495</td>\n",
       "      <td>West</td>\n",
       "    </tr>\n",
       "    <tr>\n",
       "      <th>173</th>\n",
       "      <td>379</td>\n",
       "      <td>Public</td>\n",
       "      <td>28467.0</td>\n",
       "      <td>430319.0</td>\n",
       "      <td>2.14</td>\n",
       "      <td>0.633075</td>\n",
       "      <td>Rep</td>\n",
       "      <td>0.177848</td>\n",
       "      <td>Midwest</td>\n",
       "    </tr>\n",
       "    <tr>\n",
       "      <th>174</th>\n",
       "      <td>390</td>\n",
       "      <td>Public</td>\n",
       "      <td>33592.0</td>\n",
       "      <td>167867.0</td>\n",
       "      <td>2.18</td>\n",
       "      <td>0.631854</td>\n",
       "      <td>Rep</td>\n",
       "      <td>-0.239402</td>\n",
       "      <td>Midwest</td>\n",
       "    </tr>\n",
       "  </tbody>\n",
       "</table>\n",
       "<p>160 rows × 9 columns</p>\n",
       "</div>"
      ],
      "text/plain": [
       "     ranking     Type  median_income  total_population  avg_hhsize  \\\n",
       "0          0  Private        37223.0          368085.0        2.46   \n",
       "1          1  Private        52409.0         1629153.0        2.07   \n",
       "2         27  Private        52409.0         1629153.0        2.07   \n",
       "3         67  Private        52409.0         1629153.0        2.07   \n",
       "4         73  Private        52409.0         1629153.0        2.07   \n",
       "..       ...      ...            ...               ...         ...   \n",
       "170      361  Private        27231.0          181014.0        2.11   \n",
       "171      363   Public        31110.0          243692.0        2.43   \n",
       "172      369   Public        33377.0          315389.0        2.98   \n",
       "173      379   Public        28467.0          430319.0        2.14   \n",
       "174      390   Public        33592.0          167867.0        2.18   \n",
       "\n",
       "     avg_community_level political_control_state  county_vote_diff     Region  \n",
       "0               0.627660                     Dem          0.374257  Northeast  \n",
       "1               0.535047                     Dem          0.768507  Northeast  \n",
       "2               0.535047                     Dem          0.768507  Northeast  \n",
       "3               0.535047                     Dem          0.768507  Northeast  \n",
       "4               0.535047                     Dem          0.768507  Northeast  \n",
       "..                   ...                     ...               ...        ...  \n",
       "170             0.632275                     Rep         -0.205932      South  \n",
       "171             0.482940                     Div         -0.335871      South  \n",
       "172             0.497409                     Dem         -0.222495       West  \n",
       "173             0.633075                     Rep          0.177848    Midwest  \n",
       "174             0.631854                     Rep         -0.239402    Midwest  \n",
       "\n",
       "[160 rows x 9 columns]"
      ]
     },
     "execution_count": 147,
     "metadata": {},
     "output_type": "execute_result"
    }
   ],
   "source": [
    "features"
   ]
  },
  {
   "cell_type": "markdown",
   "metadata": {},
   "source": [
    "## Modeling"
   ]
  },
  {
   "cell_type": "markdown",
   "metadata": {},
   "source": [
    "I'll use normal linear regression at first."
   ]
  },
  {
   "cell_type": "code",
   "execution_count": 142,
   "metadata": {},
   "outputs": [
    {
     "data": {
      "text/plain": [
       "Pipeline(steps=[('columntransformer',\n",
       "                 ColumnTransformer(transformers=[('one-hot-encoder',\n",
       "                                                  OneHotEncoder(handle_unknown='ignore'),\n",
       "                                                  ['Type',\n",
       "                                                   'political_control_state',\n",
       "                                                   'Region']),\n",
       "                                                 ('standard_scaler',\n",
       "                                                  StandardScaler(),\n",
       "                                                  ['avg_community_level',\n",
       "                                                   'avg_hhsize',\n",
       "                                                   'county_vote_diff',\n",
       "                                                   'median_income', 'ranking',\n",
       "                                                   'total_population'])])),\n",
       "                ('linearregression', LinearRegression())])"
      ]
     },
     "execution_count": 142,
     "metadata": {},
     "output_type": "execute_result"
    }
   ],
   "source": [
    "from sklearn.linear_model import LinearRegression\n",
    "from sklearn.pipeline import make_pipeline\n",
    "pipe = make_pipeline(preprocessor, LinearRegression())\n",
    "pipe.fit(X_train, y_train)"
   ]
  },
  {
   "cell_type": "code",
   "execution_count": 143,
   "metadata": {},
   "outputs": [
    {
     "data": {
      "text/plain": [
       "0.3050603083911495"
      ]
     },
     "execution_count": 143,
     "metadata": {},
     "output_type": "execute_result"
    }
   ],
   "source": [
    "pipe.score(X_test, y_test)"
   ]
  },
  {
   "cell_type": "markdown",
   "metadata": {},
   "source": [
    "Maybe should output a rank (i.e., which universities acted first)? Also, the ranking feature should probably be changed--not a linear relationship?"
   ]
  },
  {
   "cell_type": "markdown",
   "metadata": {},
   "source": [
    "## Exploring a Different Task\n",
    "*TODO* Can we create a classification model that tells us whether or not universities have a vaccine mandate? Is there even enough data to do this? I will try to get the data from another source. This will be a more interesting task as it has more data and is not subject to the problems with the first model when encountering a university that didn't act make one of the recorded COVID decisions. also, it may provide better results.\n",
    "\n",
    "First, I'll train a model to classify the universities that required the vaccine and those that didn't. Then, I may try a multi-level classification approach if the data I find are rich enough, with three options: one for no mandate, one for a regular mandate, and one for a booster mandate."
   ]
  },
  {
   "cell_type": "markdown",
   "metadata": {},
   "source": [
    "## TODO\n",
    "Find papers that illustrate where COVID-related sentiment comes from and what factors may cause people/administrations to act as they do."
   ]
  }
 ],
 "metadata": {
  "kernelspec": {
   "display_name": "Python 3",
   "language": "python",
   "name": "python3"
  },
  "language_info": {
   "codemirror_mode": {
    "name": "ipython",
    "version": 3
   },
   "file_extension": ".py",
   "mimetype": "text/x-python",
   "name": "python",
   "nbconvert_exporter": "python",
   "pygments_lexer": "ipython3",
   "version": "3.8.5"
  }
 },
 "nbformat": 4,
 "nbformat_minor": 4
}
